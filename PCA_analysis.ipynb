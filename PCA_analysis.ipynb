{
 "cells": [
  {
   "cell_type": "code",
   "execution_count": 1,
   "metadata": {
    "collapsed": true
   },
   "outputs": [],
   "source": [
    "## import pandas\n",
    "import pandas as pd\n",
    "import matplotlib.pyplot as plt\n",
    "import seaborn as sns\n",
    "import numpy as np\n",
    "%matplotlib inline"
   ]
  },
  {
   "cell_type": "code",
   "execution_count": 2,
   "metadata": {
    "collapsed": false
   },
   "outputs": [
    {
     "name": "stdout",
     "output_type": "stream",
     "text": [
      "                    B6_25_01215  B6_25_01216  B6_25_01217  B6_26_01218  \\\n",
      "ENSMUSG00000000001   112.535066   140.261493   121.564220    77.004043   \n",
      "ENSMUSG00000000028    55.377985    45.774339    58.876301    30.884547   \n",
      "ENSMUSG00000000031   360.837161   268.873986   351.202901   257.288049   \n",
      "ENSMUSG00000000037    68.829189    65.403145    57.885148    42.184776   \n",
      "ENSMUSG00000000049   570.553923   547.945950   359.125493   384.411497   \n",
      "\n",
      "                    B6_26_01219  B6_26_01220  B6_42_01884  B6_42_01885  \\\n",
      "ENSMUSG00000000001    93.834246    58.724304    66.404632   112.296180   \n",
      "ENSMUSG00000000028    27.352298    25.432281    28.632267    22.559383   \n",
      "ENSMUSG00000000031   454.737678   205.822051   235.977154   282.103623   \n",
      "ENSMUSG00000000037    46.089276    29.380832    37.787682    35.457915   \n",
      "ENSMUSG00000000049   430.484816   533.497426   335.529465   483.809303   \n",
      "\n",
      "                    B6_42_01886  NOD_JAG012_01224       ...         \\\n",
      "ENSMUSG00000000001    94.305127          0.000000       ...          \n",
      "ENSMUSG00000000028    35.640876          2.999686       ...          \n",
      "ENSMUSG00000000031   221.285722         13.993558       ...          \n",
      "ENSMUSG00000000037    23.949822          5.792272       ...          \n",
      "ENSMUSG00000000049   420.012403         10.990683       ...          \n",
      "\n",
      "                    NOD_JAG020_01901  PWD_AC398_01887  PWD_AC398_01888  \\\n",
      "ENSMUSG00000000001          0.000000         0.000000         0.000000   \n",
      "ENSMUSG00000000028          2.396929         1.644302         2.521045   \n",
      "ENSMUSG00000000031         21.290094         8.096030         8.130665   \n",
      "ENSMUSG00000000037          7.197658        10.499686         6.944488   \n",
      "ENSMUSG00000000049          7.389192        12.573885        15.672515   \n",
      "\n",
      "                    PWD_AC398_01889  PWD_AC401_01890  PWD_AC401_01891  \\\n",
      "ENSMUSG00000000001         0.000000         0.000000         0.000000   \n",
      "ENSMUSG00000000028         2.357681         2.199329         1.582930   \n",
      "ENSMUSG00000000031         6.024688         4.089381         2.841080   \n",
      "ENSMUSG00000000037         7.692504         6.725583         4.824493   \n",
      "ENSMUSG00000000049        14.859316        12.170944         7.204290   \n",
      "\n",
      "                    PWD_AC401_01892  PWD_AC403_01893  PWD_AC403_01894  \\\n",
      "ENSMUSG00000000001         0.000000         0.000000         0.000000   \n",
      "ENSMUSG00000000028         2.071517         2.656721         2.571572   \n",
      "ENSMUSG00000000031         6.011882         4.024527         5.833478   \n",
      "ENSMUSG00000000037         5.238629         6.931580         6.932399   \n",
      "ENSMUSG00000000049        12.070697        12.177671        11.160846   \n",
      "\n",
      "                    PWD_AC403_01895  \n",
      "ENSMUSG00000000001         0.000000  \n",
      "ENSMUSG00000000028         2.134306  \n",
      "ENSMUSG00000000031         5.818492  \n",
      "ENSMUSG00000000037         4.836966  \n",
      "ENSMUSG00000000049        12.044023  \n",
      "\n",
      "[5 rows x 27 columns]\n"
     ]
    },
    {
     "data": {
      "text/plain": [
       "(7377, 27)"
      ]
     },
     "execution_count": 2,
     "metadata": {},
     "output_type": "execute_result"
    }
   ],
   "source": [
    "exp_df=pd.read_csv(\"/Users/narayan/Projects/Laura/ES_RNAseq/Kallisto/exp_hvg_BNP_ES_RNAseq_kallisto.tsv\", sep=\"\\t\")\n",
    "print exp_df.head()\n",
    "exp_df.shape"
   ]
  },
  {
   "cell_type": "code",
   "execution_count": 3,
   "metadata": {
    "collapsed": false
   },
   "outputs": [
    {
     "data": {
      "text/html": [
       "<div>\n",
       "<table border=\"1\" class=\"dataframe\">\n",
       "  <thead>\n",
       "    <tr style=\"text-align: right;\">\n",
       "      <th></th>\n",
       "      <th>read_counts</th>\n",
       "    </tr>\n",
       "  </thead>\n",
       "  <tbody>\n",
       "    <tr>\n",
       "      <th>B6_25_01215</th>\n",
       "      <td>922865.941265</td>\n",
       "    </tr>\n",
       "    <tr>\n",
       "      <th>B6_25_01216</th>\n",
       "      <td>930475.254480</td>\n",
       "    </tr>\n",
       "    <tr>\n",
       "      <th>B6_25_01217</th>\n",
       "      <td>846333.430633</td>\n",
       "    </tr>\n",
       "    <tr>\n",
       "      <th>B6_26_01218</th>\n",
       "      <td>692400.139611</td>\n",
       "    </tr>\n",
       "    <tr>\n",
       "      <th>B6_26_01219</th>\n",
       "      <td>880113.762287</td>\n",
       "    </tr>\n",
       "  </tbody>\n",
       "</table>\n",
       "</div>"
      ],
      "text/plain": [
       "               read_counts\n",
       "B6_25_01215  922865.941265\n",
       "B6_25_01216  930475.254480\n",
       "B6_25_01217  846333.430633\n",
       "B6_26_01218  692400.139611\n",
       "B6_26_01219  880113.762287"
      ]
     },
     "execution_count": 3,
     "metadata": {},
     "output_type": "execute_result"
    }
   ],
   "source": [
    "read_counts_df=pd.DataFrame(exp_df.sum(axis=0))\n",
    "read_counts_df.head()\n",
    "list(read_counts_df.index)\n",
    "read_counts_df.columns =['read_counts']\n",
    "read_counts_df.head()"
   ]
  },
  {
   "cell_type": "code",
   "execution_count": 4,
   "metadata": {
    "collapsed": false
   },
   "outputs": [
    {
     "name": "stdout",
     "output_type": "stream",
     "text": [
      "               read_counts     SampleID Strain\n",
      "B6_25_01215  922865.941265  B6_25_01215     B6\n",
      "B6_25_01216  930475.254480  B6_25_01216     B6\n",
      "B6_25_01217  846333.430633  B6_25_01217     B6\n",
      "B6_26_01218  692400.139611  B6_26_01218     B6\n",
      "B6_26_01219  880113.762287  B6_26_01219     B6\n",
      "               read_counts     SampleID Strain Color\n",
      "B6_25_01215  922865.941265  B6_25_01215     B6  blue\n",
      "B6_25_01216  930475.254480  B6_25_01216     B6  blue\n",
      "B6_25_01217  846333.430633  B6_25_01217     B6  blue\n",
      "B6_26_01218  692400.139611  B6_26_01218     B6  blue\n",
      "B6_26_01219  880113.762287  B6_26_01219     B6  blue\n"
     ]
    }
   ],
   "source": [
    "# add a new 'Sample ID' column\n",
    "read_counts_df['SampleID'] =list(read_counts_df.index)\n",
    "# add a new 'Strain' column\n",
    "read_counts_df['Strain'] = [i.split(\"_\")[0] for i in list(read_counts_df.index)]\n",
    "print read_counts_df.head()\n",
    "color_dict={'B6':'blue',\n",
    "            'NOD':'green',\n",
    "             'PWD':'red'}\n",
    "read_counts_df['Color']=[color_dict[s] for s in read_counts_df['Strain']]\n",
    "print read_counts_df.head()   "
   ]
  },
  {
   "cell_type": "code",
   "execution_count": 5,
   "metadata": {
    "collapsed": false
   },
   "outputs": [
    {
     "name": "stdout",
     "output_type": "stream",
     "text": [
      "(7377, 27)\n",
      "(7377, 7377) (27,) (27, 27)\n"
     ]
    },
    {
     "name": "stderr",
     "output_type": "stream",
     "text": [
      "/Users/narayan/anaconda2/lib/python2.7/site-packages/matplotlib/axes/_axes.py:545: UserWarning: No labelled objects found. Use label='...' kwarg on individual plots.\n",
      "  warnings.warn(\"No labelled objects found. \"\n"
     ]
    },
    {
     "data": {
      "image/png": "[encoded data removed]",
      "text/plain": [
       "<matplotlib.figure.Figure at 0x1174ca090>"
      ]
     },
     "metadata": {},
     "output_type": "display_data"
    }
   ],
   "source": [
    "exp_hvg_log2cnts=np.log2(exp_df+1)\n",
    "exp_hvg_log2cnts.shape\n",
    "e_mat = (exp_hvg_log2cnts - np.mean(exp_hvg_log2cnts))\n",
    "e_mat.shape\n",
    "X=e_mat.values\n",
    "print X.shape\n",
    "U, s, V = np.linalg.svd(X, full_matrices=True)\n",
    "print U.shape,s.shape,V.shape\n",
    "x=V[:,0]\n",
    "y=V[:,1]\n",
    "plt.scatter(x, y, c='g', alpha=0.5,marker='o')\n",
    "plt.xlabel(\"PC1\")\n",
    "plt.ylabel(\"PC2\")\n",
    "plt.legend(loc=2)\n",
    "plt.show()\n"
   ]
  },
  {
   "cell_type": "code",
   "execution_count": 102,
   "metadata": {
    "collapsed": false
   },
   "outputs": [
    {
     "name": "stdout",
     "output_type": "stream",
     "text": [
      "(7377, 27)\n",
      "(7377, 7377) (27,) (27, 27)\n",
      "27\n"
     ]
    },
    {
     "data": {
      "image/png": "[encoded data removed]",
      "text/plain": [
       "<matplotlib.figure.Figure at 0x11909ca90>"
      ]
     },
     "metadata": {},
     "output_type": "display_data"
    }
   ],
   "source": [
    "e_mat = (exp_df - np.mean(exp_df))\n",
    "e_mat.shape\n",
    "X=e_mat.values\n",
    "print X.shape\n",
    "U, s, V = np.linalg.svd(X, full_matrices=True)\n",
    "print U.shape,s.shape,V.shape\n",
    "x=V[0,:]\n",
    "y=V[1,:]\n",
    "print(len(x))\n",
    "plt.scatter(x, y, c='g', alpha=0.5,marker='o')\n",
    "plt.xlabel(\"PC1\")\n",
    "plt.ylabel(\"PC2\")\n",
    "plt.legend(loc=2)\n",
    "plt.show()\n"
   ]
  },
  {
   "cell_type": "code",
   "execution_count": 103,
   "metadata": {
    "collapsed": false
   },
   "outputs": [
    {
     "data": {
      "text/plain": [
       "<bound method DataFrame.head of                   ENSMUSG00000000001  ENSMUSG00000000028  ENSMUSG00000000031  \\\n",
       "B6_25_01215               112.535066           55.377985          360.837161   \n",
       "B6_25_01216               140.261493           45.774339          268.873986   \n",
       "B6_25_01217               121.564220           58.876301          351.202901   \n",
       "B6_26_01218                77.004043           30.884547          257.288049   \n",
       "B6_26_01219                93.834246           27.352298          454.737678   \n",
       "B6_26_01220                58.724304           25.432281          205.822051   \n",
       "B6_42_01884                66.404632           28.632267          235.977154   \n",
       "B6_42_01885               112.296180           22.559383          282.103623   \n",
       "B6_42_01886                94.305127           35.640876          221.285722   \n",
       "NOD_JAG012_01224            0.000000            2.999686           13.993558   \n",
       "NOD_JAG012_01225            0.000000            2.083834            9.084127   \n",
       "NOD_JAG012_01226            0.000000            3.089821           12.244988   \n",
       "NOD_JAG018_01896            0.000000            2.011574            9.984583   \n",
       "NOD_JAG018_01897            0.000000            2.607842           14.543172   \n",
       "NOD_JAG018_01898            0.000000            1.904086           12.477759   \n",
       "NOD_JAG020_01899            0.000000            3.520605           18.045258   \n",
       "NOD_JAG020_01900            0.000000            1.918429            8.961116   \n",
       "NOD_JAG020_01901            0.000000            2.396929           21.290094   \n",
       "PWD_AC398_01887             0.000000            1.644302            8.096030   \n",
       "PWD_AC398_01888             0.000000            2.521045            8.130665   \n",
       "PWD_AC398_01889             0.000000            2.357681            6.024688   \n",
       "PWD_AC401_01890             0.000000            2.199329            4.089381   \n",
       "PWD_AC401_01891             0.000000            1.582930            2.841080   \n",
       "PWD_AC401_01892             0.000000            2.071517            6.011882   \n",
       "PWD_AC403_01893             0.000000            2.656721            4.024527   \n",
       "PWD_AC403_01894             0.000000            2.571572            5.833478   \n",
       "PWD_AC403_01895             0.000000            2.134306            5.818492   \n",
       "\n",
       "                  ENSMUSG00000000037  ENSMUSG00000000049  ENSMUSG00000000056  \\\n",
       "B6_25_01215                68.829189          570.553923           96.746062   \n",
       "B6_25_01216                65.403145          547.945950           83.113341   \n",
       "B6_25_01217                57.885148          359.125493           74.676940   \n",
       "B6_26_01218                42.184776          384.411497           46.712140   \n",
       "B6_26_01219                46.089276          430.484816           80.455991   \n",
       "B6_26_01220                29.380832          533.497426           55.508937   \n",
       "B6_42_01884                37.787682          335.529465           65.304108   \n",
       "B6_42_01885                35.457915          483.809303           90.979248   \n",
       "B6_42_01886                23.949822          420.012403           68.250193   \n",
       "NOD_JAG012_01224            5.792272           10.990683            1.784670   \n",
       "NOD_JAG012_01225            4.578329           11.361395            1.424221   \n",
       "NOD_JAG012_01226            4.487968           12.071435            1.505517   \n",
       "NOD_JAG018_01896            4.595133            7.066536            1.418068   \n",
       "NOD_JAG018_01897            6.635299            9.455125            1.911230   \n",
       "NOD_JAG018_01898            7.736567            6.367431            2.544445   \n",
       "NOD_JAG020_01899            7.913750            9.509031            2.620635   \n",
       "NOD_JAG020_01900            6.590448            4.395895            1.032411   \n",
       "NOD_JAG020_01901            7.197658            7.389192            2.534508   \n",
       "PWD_AC398_01887            10.499686           12.573885            1.972291   \n",
       "PWD_AC398_01888             6.944488           15.672515            5.083370   \n",
       "PWD_AC398_01889             7.692504           14.859316            2.539544   \n",
       "PWD_AC401_01890             6.725583           12.170944            3.918244   \n",
       "PWD_AC401_01891             4.824493            7.204290            1.499325   \n",
       "PWD_AC401_01892             5.238629           12.070697            1.416760   \n",
       "PWD_AC403_01893             6.931580           12.177671            2.560159   \n",
       "PWD_AC403_01894             6.932399           11.160846            1.247624   \n",
       "PWD_AC403_01895             4.836966           12.044023            2.011847   \n",
       "\n",
       "                  ENSMUSG00000000058  ENSMUSG00000000093  ENSMUSG00000000094  \\\n",
       "B6_25_01215               150.571581           23.510514          364.352066   \n",
       "B6_25_01216               164.563347           28.729834          373.422677   \n",
       "B6_25_01217               139.573164           32.823849          368.303767   \n",
       "B6_26_01218               105.988126           29.446563          335.027024   \n",
       "B6_26_01219               153.986542           26.993873          405.529458   \n",
       "B6_26_01220               132.113384           24.246724          255.346218   \n",
       "B6_42_01884                30.906161           34.531963          315.521515   \n",
       "B6_42_01885                23.650555           57.843960          425.944277   \n",
       "B6_42_01886                21.802156           31.765859          323.229515   \n",
       "NOD_JAG012_01224            2.208812            5.509997            6.682898   \n",
       "NOD_JAG012_01225            0.000383            4.413188            5.250415   \n",
       "NOD_JAG012_01226            3.509390            3.258430            4.739188   \n",
       "NOD_JAG018_01896            2.207372            2.313040            4.154965   \n",
       "NOD_JAG018_01897            0.000086            2.665697            3.827302   \n",
       "NOD_JAG018_01898            6.720159            2.474248            4.051688   \n",
       "NOD_JAG020_01899            7.976464            4.114579            5.374328   \n",
       "NOD_JAG020_01900            2.957933            1.751635            3.635510   \n",
       "NOD_JAG020_01901            1.500182            3.197791            5.559607   \n",
       "PWD_AC398_01887             2.546519            2.657083            1.847568   \n",
       "PWD_AC398_01888             4.763805            4.246032            3.469800   \n",
       "PWD_AC398_01889             5.621530            3.670347            2.840654   \n",
       "PWD_AC401_01890             5.053489            3.713679            5.828351   \n",
       "PWD_AC401_01891             1.297144            2.217213            0.908028   \n",
       "PWD_AC401_01892             0.000218            4.321352            2.004625   \n",
       "PWD_AC403_01893             4.382937            2.465218            3.706906   \n",
       "PWD_AC403_01894             0.000117            2.972409            2.279965   \n",
       "PWD_AC403_01895             5.472698            2.119678            2.235051   \n",
       "\n",
       "                  ENSMUSG00000000103         ...          ENSMUSG00000104471  \\\n",
       "B6_25_01215                35.184693         ...                    0.034109   \n",
       "B6_25_01216                32.076793         ...                    0.223777   \n",
       "B6_25_01217                30.639150         ...                    0.182157   \n",
       "B6_26_01218                34.337528         ...                    0.153205   \n",
       "B6_26_01219                42.166042         ...                    0.224173   \n",
       "B6_26_01220                23.531946         ...                    0.070359   \n",
       "B6_42_01884                29.276744         ...                    0.246081   \n",
       "B6_42_01885                34.107639         ...                    0.092368   \n",
       "B6_42_01886                46.727808         ...                    0.126889   \n",
       "NOD_JAG012_01224            0.968472         ...                   71.441646   \n",
       "NOD_JAG012_01225            1.250769         ...                   48.411615   \n",
       "NOD_JAG012_01226            2.498306         ...                   67.132556   \n",
       "NOD_JAG018_01896            0.382024         ...                   92.474665   \n",
       "NOD_JAG018_01897            0.913612         ...                   90.822431   \n",
       "NOD_JAG018_01898            0.465296         ...                   99.222580   \n",
       "NOD_JAG020_01899            1.625645         ...                  181.757518   \n",
       "NOD_JAG020_01900            0.000000         ...                  120.640733   \n",
       "NOD_JAG020_01901            0.000000         ...                  110.172998   \n",
       "PWD_AC398_01887             1.141455         ...                   56.168110   \n",
       "PWD_AC398_01888             3.197464         ...                   56.830810   \n",
       "PWD_AC398_01889             1.484527         ...                   87.942832   \n",
       "PWD_AC401_01890             2.503063         ...                   53.998883   \n",
       "PWD_AC401_01891             1.598934         ...                   31.485842   \n",
       "PWD_AC401_01892             1.929195         ...                   50.823353   \n",
       "PWD_AC403_01893             1.401563         ...                   47.889140   \n",
       "PWD_AC403_01894             0.971267         ...                   51.902336   \n",
       "PWD_AC403_01895             2.296155         ...                   40.295295   \n",
       "\n",
       "                  ENSMUSG00000104481  ENSMUSG00000104493  ENSMUSG00000104494  \\\n",
       "B6_25_01215             2.143057e-01            0.198566            1.345499   \n",
       "B6_25_01216             0.000000e+00            0.364094            1.004221   \n",
       "B6_25_01217             0.000000e+00            0.169440            1.177058   \n",
       "B6_26_01218             4.806499e-10            0.000000            1.200484   \n",
       "B6_26_01219             0.000000e+00            0.000000            0.947933   \n",
       "B6_26_01220             0.000000e+00            0.000000            1.077082   \n",
       "B6_42_01884             0.000000e+00            0.000000            1.095190   \n",
       "B6_42_01885             0.000000e+00            0.000000            1.858871   \n",
       "B6_42_01886             0.000000e+00            0.124615            1.906900   \n",
       "NOD_JAG012_01224        1.092570e+01           31.125692          162.554354   \n",
       "NOD_JAG012_01225        1.166407e+01           14.221648          131.778210   \n",
       "NOD_JAG012_01226        5.819342e+00           22.607107          138.625982   \n",
       "NOD_JAG018_01896        2.459213e+01           29.063597           39.364335   \n",
       "NOD_JAG018_01897        1.937783e+01           26.968571           34.330112   \n",
       "NOD_JAG018_01898        2.439198e+01           33.840932           50.904626   \n",
       "NOD_JAG020_01899        2.334813e+01           44.118396           65.548407   \n",
       "NOD_JAG020_01900        2.823447e+01           33.989128           38.894657   \n",
       "NOD_JAG020_01901        3.661181e+01           50.599608           51.604769   \n",
       "PWD_AC398_01887         1.022281e+01           20.618163           95.578712   \n",
       "PWD_AC398_01888         1.805652e+01           25.059777          107.343555   \n",
       "PWD_AC398_01889         1.673470e+01           24.504735           77.518282   \n",
       "PWD_AC401_01890         2.445284e+01           30.620804          107.853721   \n",
       "PWD_AC401_01891         6.950262e+00           19.100734           61.307518   \n",
       "PWD_AC401_01892         1.596571e+01           24.812113          144.102676   \n",
       "PWD_AC403_01893         2.001298e+01           20.985658           71.846551   \n",
       "PWD_AC403_01894         1.169271e+01           19.500868           90.039594   \n",
       "PWD_AC403_01895         1.528779e+01           15.449588           77.989315   \n",
       "\n",
       "                  ENSMUSG00000104503  ENSMUSG00000104504  ENSMUSG00000104505  \\\n",
       "B6_25_01215                 0.000000            0.028017            1.392745   \n",
       "B6_25_01216                 0.153212            0.022556            0.833313   \n",
       "B6_25_01217                 0.138337            0.031875            0.251245   \n",
       "B6_26_01218                 0.031359            0.030207            0.666218   \n",
       "B6_26_01219                 0.073404            0.028390            1.469926   \n",
       "B6_26_01220                 0.074592            0.000000            1.138615   \n",
       "B6_42_01884                 0.030360            0.039991            0.469908   \n",
       "B6_42_01885                 0.061282            0.113752            0.444538   \n",
       "B6_42_01886                 0.168130            0.000000            0.717547   \n",
       "NOD_JAG012_01224          157.956886           26.908142           93.567546   \n",
       "NOD_JAG012_01225          139.950018           21.892073          107.749431   \n",
       "NOD_JAG012_01226          127.190604           35.074008          114.457399   \n",
       "NOD_JAG018_01896           66.775215           32.465884          186.231279   \n",
       "NOD_JAG018_01897           60.293274           40.100525          209.946867   \n",
       "NOD_JAG018_01898           54.224434           41.986879          188.802057   \n",
       "NOD_JAG020_01899          104.805518           50.830744          208.456529   \n",
       "NOD_JAG020_01900           61.138237           37.620864          200.271614   \n",
       "NOD_JAG020_01901           69.073504           44.802655          238.388854   \n",
       "PWD_AC398_01887            65.476371           16.204502           73.504710   \n",
       "PWD_AC398_01888           101.657358           22.084843           92.244565   \n",
       "PWD_AC398_01889            95.020469           17.161755          118.275746   \n",
       "PWD_AC401_01890            71.802006           17.664622          122.094180   \n",
       "PWD_AC401_01891            55.880303            8.628251           47.120086   \n",
       "PWD_AC401_01892            78.289413           17.195173           96.068154   \n",
       "PWD_AC403_01893           136.700326           20.162329          111.186808   \n",
       "PWD_AC403_01894            73.955925           16.678688          149.434930   \n",
       "PWD_AC403_01895            79.193665           13.506961           76.041827   \n",
       "\n",
       "                  ENSMUSG00000104506  ENSMUSG00000104507  ENSMUSG00000104524  \n",
       "B6_25_01215                 0.108421            7.618051            0.000000  \n",
       "B6_25_01216                 0.087542           12.154363            0.000000  \n",
       "B6_25_01217                 0.000000            3.401901            0.000000  \n",
       "B6_26_01218                 0.098402           14.936114            0.075939  \n",
       "B6_26_01219                 0.030207           32.420404            0.000000  \n",
       "B6_26_01220                 0.075948            8.831582            0.069605  \n",
       "B6_42_01884                 0.047242           27.270448            0.000000  \n",
       "B6_42_01885                 0.073423           38.710434            0.262426  \n",
       "B6_42_01886                 0.049939           32.446620            0.096785  \n",
       "NOD_JAG012_01224           45.228178            0.311318           23.355558  \n",
       "NOD_JAG012_01225           45.500659            0.779613           20.274699  \n",
       "NOD_JAG012_01226           51.948832            0.461385           15.732503  \n",
       "NOD_JAG018_01896          312.651817            0.038416           41.499097  \n",
       "NOD_JAG018_01897          186.574946            0.071114           41.104460  \n",
       "NOD_JAG018_01898          222.482212            0.243072           66.577381  \n",
       "NOD_JAG020_01899          313.607139            0.235565           51.139212  \n",
       "NOD_JAG020_01900          170.733405            0.080381           40.752016  \n",
       "NOD_JAG020_01901          241.809606            0.132197           45.796533  \n",
       "PWD_AC398_01887            87.909934            0.497342           13.287531  \n",
       "PWD_AC398_01888           103.091745            0.682687           17.450679  \n",
       "PWD_AC398_01889            92.348107            0.588490           15.650934  \n",
       "PWD_AC401_01890            70.140226            0.322645           16.607259  \n",
       "PWD_AC401_01891            48.367088            0.596409           10.849814  \n",
       "PWD_AC401_01892            59.312481            0.598955           11.346298  \n",
       "PWD_AC403_01893            68.823750            0.773456           16.360294  \n",
       "PWD_AC403_01894            74.268040            0.806139           10.583068  \n",
       "PWD_AC403_01895            66.674817            0.854744           12.921929  \n",
       "\n",
       "[27 rows x 7377 columns]>"
      ]
     },
     "execution_count": 103,
     "metadata": {},
     "output_type": "execute_result"
    }
   ],
   "source": [
    "#first we need to map colors on labels\n",
    "dfcolor = pd.DataFrame([['B6','red'],['NOD','green'],['PWD','blue']],columns=['Strain','Color'])\n",
    "#mergeddf = pd.merge(df,dßfcolor)\n",
    "dfcolor\n",
    "np.transpose(exp_df).head\n",
    "#read_counts_df.head()"
   ]
  },
  {
   "cell_type": "code",
   "execution_count": 104,
   "metadata": {
    "collapsed": false
   },
   "outputs": [
    {
     "data": {
      "image/png": "[encoded data removed]",
      "text/plain": [
       "<matplotlib.figure.Figure at 0x1190ebdd0>"
      ]
     },
     "metadata": {},
     "output_type": "display_data"
    }
   ],
   "source": [
    "from sklearn.decomposition import PCA\n",
    "from sklearn.preprocessing import scale\n",
    "from sklearn.preprocessing import StandardScaler\n",
    "#X = scale(exp_df)\n",
    "#print np.transpose(exp_df).head\n",
    "pca = PCA(n_components=2)\n",
    "#exp_std = StandardScaler().fit(exp_df).transform(exp_df)\n",
    "exp_std = StandardScaler().fit_transform(exp_df)\n",
    "exp_std.shape\n",
    "pca_std = PCA(n_components=2).fit(np.transpose(exp_std))\n",
    "pc_std = pca_std.transform(np.transpose(exp_std))\n",
    "len(pc_std[:,0])\n",
    "plt.scatter(x=pc_std[:,0],y=pc_std[:,1],c=read_counts_df['Color'])\n",
    "plt.title('PCA Analysis', fontsize=20)\n",
    "plt.xlabel('PC1', fontsize=15)\n",
    "plt.ylabel('PC2', fontsize=15)\n",
    "plt.grid(True)\n",
    "plt.show()"
   ]
  },
  {
   "cell_type": "code",
   "execution_count": 123,
   "metadata": {
    "collapsed": false
   },
   "outputs": [
    {
     "data": {
      "image/png": "[encoded data removed]",
      "text/plain": [
       "<matplotlib.figure.Figure at 0x1221c6290>"
      ]
     },
     "metadata": {},
     "output_type": "display_data"
    },
    {
     "data": {
      "text/plain": [
       "array([-78.19982247, -78.92074373, -79.46013698, -79.10278269,\n",
       "       -77.19221373, -76.10507326, -77.24012202, -78.08962551,\n",
       "       -78.5878233 ,  33.25967765,  38.07497249,  37.18442509,\n",
       "        39.75612724,  39.45594596,  39.02842642,  38.98146475,\n",
       "        40.82655059,  39.6699392 ,  40.85025996,  40.30310761,\n",
       "        39.6017256 ,  39.65134204,  40.48229125,  39.57987144,\n",
       "        39.78642655,  36.64456681,  39.76122304])"
      ]
     },
     "execution_count": 123,
     "metadata": {},
     "output_type": "execute_result"
    }
   ],
   "source": [
    "from sklearn.preprocessing import scale\n",
    "#pca = PCA(n_components=2)\n",
    "#exp_std = StandardScaler().fit(exp_df).transform(exp_df)\n",
    "exp_df = scale(exp_df)\n",
    "#exp_scaled.shape\n",
    "pca_std = PCA(n_components=2).fit(np.transpose(exp_df))\n",
    "pc_std = pca_std.transform(np.transpose(exp_df))\n",
    "len(pc_std[:,0])\n",
    "plt.scatter(x=pc_std[:,0],y=pc_std[:,1],c=read_counts_df['Color'])\n",
    "plt.title('PCA Analysis', fontsize=20)\n",
    "plt.xlabel('PC1', fontsize=15)\n",
    "plt.ylabel('PC2', fontsize=15)\n",
    "plt.grid(True)\n",
    "plt.show()\n",
    "pc_std[:,0]"
   ]
  },
  {
   "cell_type": "code",
   "execution_count": 49,
   "metadata": {
    "collapsed": false
   },
   "outputs": [
    {
     "ename": "ValueError",
     "evalue": "Length mismatch: Expected axis has 7377 elements, new values have 27 elements",
     "output_type": "error",
     "traceback": [
      "\u001b[0;31m---------------------------------------------------------------------------\u001b[0m",
      "\u001b[0;31mValueError\u001b[0m                                Traceback (most recent call last)",
      "\u001b[0;32m<ipython-input-49-13361a83c4cc>\u001b[0m in \u001b[0;36m<module>\u001b[0;34m()\u001b[0m\n\u001b[1;32m     12\u001b[0m \u001b[0;31m#exp_df_2d = pd.DataFrame(exp_2d)\u001b[0m\u001b[0;34m\u001b[0m\u001b[0;34m\u001b[0m\u001b[0m\n\u001b[1;32m     13\u001b[0m \u001b[0mexp_df_2d\u001b[0m \u001b[0;34m=\u001b[0m \u001b[0mpd\u001b[0m\u001b[0;34m.\u001b[0m\u001b[0mDataFrame\u001b[0m\u001b[0;34m(\u001b[0m\u001b[0mexp_std\u001b[0m\u001b[0;34m)\u001b[0m\u001b[0;34m\u001b[0m\u001b[0m\n\u001b[0;32m---> 14\u001b[0;31m \u001b[0mexp_df_2d\u001b[0m\u001b[0;34m.\u001b[0m\u001b[0mindex\u001b[0m \u001b[0;34m=\u001b[0m \u001b[0mnp\u001b[0m\u001b[0;34m.\u001b[0m\u001b[0mtranspose\u001b[0m\u001b[0;34m(\u001b[0m\u001b[0mexp_df\u001b[0m\u001b[0;34m)\u001b[0m\u001b[0;34m.\u001b[0m\u001b[0mindex\u001b[0m\u001b[0;34m\u001b[0m\u001b[0m\n\u001b[0m\u001b[1;32m     15\u001b[0m \u001b[0mexp_df_2d\u001b[0m\u001b[0;34m.\u001b[0m\u001b[0mcolumns\u001b[0m \u001b[0;34m=\u001b[0m \u001b[0;34m[\u001b[0m\u001b[0;34m'PC1'\u001b[0m\u001b[0;34m,\u001b[0m\u001b[0;34m'PC2'\u001b[0m\u001b[0;34m]\u001b[0m\u001b[0;34m\u001b[0m\u001b[0m\n\u001b[1;32m     16\u001b[0m \u001b[0;32mprint\u001b[0m \u001b[0mexp_df_2d\u001b[0m\u001b[0;34m.\u001b[0m\u001b[0mhead\u001b[0m\u001b[0;34m(\u001b[0m\u001b[0;34m)\u001b[0m\u001b[0;34m\u001b[0m\u001b[0m\n",
      "\u001b[0;32m/Users/narayan/anaconda2/lib/python2.7/site-packages/pandas/core/generic.pyc\u001b[0m in \u001b[0;36m__setattr__\u001b[0;34m(self, name, value)\u001b[0m\n\u001b[1;32m   2683\u001b[0m         \u001b[0;32mtry\u001b[0m\u001b[0;34m:\u001b[0m\u001b[0;34m\u001b[0m\u001b[0m\n\u001b[1;32m   2684\u001b[0m             \u001b[0mobject\u001b[0m\u001b[0;34m.\u001b[0m\u001b[0m__getattribute__\u001b[0m\u001b[0;34m(\u001b[0m\u001b[0mself\u001b[0m\u001b[0;34m,\u001b[0m \u001b[0mname\u001b[0m\u001b[0;34m)\u001b[0m\u001b[0;34m\u001b[0m\u001b[0m\n\u001b[0;32m-> 2685\u001b[0;31m             \u001b[0;32mreturn\u001b[0m \u001b[0mobject\u001b[0m\u001b[0;34m.\u001b[0m\u001b[0m__setattr__\u001b[0m\u001b[0;34m(\u001b[0m\u001b[0mself\u001b[0m\u001b[0;34m,\u001b[0m \u001b[0mname\u001b[0m\u001b[0;34m,\u001b[0m \u001b[0mvalue\u001b[0m\u001b[0;34m)\u001b[0m\u001b[0;34m\u001b[0m\u001b[0m\n\u001b[0m\u001b[1;32m   2686\u001b[0m         \u001b[0;32mexcept\u001b[0m \u001b[0mAttributeError\u001b[0m\u001b[0;34m:\u001b[0m\u001b[0;34m\u001b[0m\u001b[0m\n\u001b[1;32m   2687\u001b[0m             \u001b[0;32mpass\u001b[0m\u001b[0;34m\u001b[0m\u001b[0m\n",
      "\u001b[0;32mpandas/src/properties.pyx\u001b[0m in \u001b[0;36mpandas.lib.AxisProperty.__set__ (pandas/lib.c:44748)\u001b[0;34m()\u001b[0m\n",
      "\u001b[0;32m/Users/narayan/anaconda2/lib/python2.7/site-packages/pandas/core/generic.pyc\u001b[0m in \u001b[0;36m_set_axis\u001b[0;34m(self, axis, labels)\u001b[0m\n\u001b[1;32m    426\u001b[0m \u001b[0;34m\u001b[0m\u001b[0m\n\u001b[1;32m    427\u001b[0m     \u001b[0;32mdef\u001b[0m \u001b[0m_set_axis\u001b[0m\u001b[0;34m(\u001b[0m\u001b[0mself\u001b[0m\u001b[0;34m,\u001b[0m \u001b[0maxis\u001b[0m\u001b[0;34m,\u001b[0m \u001b[0mlabels\u001b[0m\u001b[0;34m)\u001b[0m\u001b[0;34m:\u001b[0m\u001b[0;34m\u001b[0m\u001b[0m\n\u001b[0;32m--> 428\u001b[0;31m         \u001b[0mself\u001b[0m\u001b[0;34m.\u001b[0m\u001b[0m_data\u001b[0m\u001b[0;34m.\u001b[0m\u001b[0mset_axis\u001b[0m\u001b[0;34m(\u001b[0m\u001b[0maxis\u001b[0m\u001b[0;34m,\u001b[0m \u001b[0mlabels\u001b[0m\u001b[0;34m)\u001b[0m\u001b[0;34m\u001b[0m\u001b[0m\n\u001b[0m\u001b[1;32m    429\u001b[0m         \u001b[0mself\u001b[0m\u001b[0;34m.\u001b[0m\u001b[0m_clear_item_cache\u001b[0m\u001b[0;34m(\u001b[0m\u001b[0;34m)\u001b[0m\u001b[0;34m\u001b[0m\u001b[0m\n\u001b[1;32m    430\u001b[0m \u001b[0;34m\u001b[0m\u001b[0m\n",
      "\u001b[0;32m/Users/narayan/anaconda2/lib/python2.7/site-packages/pandas/core/internals.pyc\u001b[0m in \u001b[0;36mset_axis\u001b[0;34m(self, axis, new_labels)\u001b[0m\n\u001b[1;32m   2633\u001b[0m             raise ValueError('Length mismatch: Expected axis has %d elements, '\n\u001b[1;32m   2634\u001b[0m                              \u001b[0;34m'new values have %d elements'\u001b[0m \u001b[0;34m%\u001b[0m\u001b[0;34m\u001b[0m\u001b[0m\n\u001b[0;32m-> 2635\u001b[0;31m                              (old_len, new_len))\n\u001b[0m\u001b[1;32m   2636\u001b[0m \u001b[0;34m\u001b[0m\u001b[0m\n\u001b[1;32m   2637\u001b[0m         \u001b[0mself\u001b[0m\u001b[0;34m.\u001b[0m\u001b[0maxes\u001b[0m\u001b[0;34m[\u001b[0m\u001b[0maxis\u001b[0m\u001b[0;34m]\u001b[0m \u001b[0;34m=\u001b[0m \u001b[0mnew_labels\u001b[0m\u001b[0;34m\u001b[0m\u001b[0m\n",
      "\u001b[0;31mValueError\u001b[0m: Length mismatch: Expected axis has 7377 elements, new values have 27 elements"
     ]
    }
   ],
   "source": [
    "\n",
    "pca.fit_transform(exp_std)\n",
    "#pca.fit(np.transpose(exp_df)).transform(np.transpose(exp_df))\n",
    "#pca.fit(np.transpose(exp_df))\n",
    "#exp_2d = pca.transform(np.transpose(exp_df))\n",
    "exp_df_2d = pd.DataFrame(exp_2d)\n",
    "#exp_df_2d = pd.DataFrame(exp_std)\n",
    "exp_df_2d.index = np.transpose(exp_df).index\n",
    "exp_df_2d.columns = ['PC1','PC2']\n",
    "print exp_df_2d.head()\n",
    "print exp_df_2d.shape\n",
    "#The amount of variance that each PC explains\n",
    "var= pca.explained_variance_ratio_\n",
    "print var\n",
    "#ax = exp_df_2d.plot(kind='scatter', x='PC2', y='PC1', s=100,figsize=(12,8),)\n",
    "plt.scatter(x=exp_df_2d['PC1'],y=exp_df_2d['PC2'],c=read_counts_df['Color'])\n",
    "plt.title('PCA Analysis', fontsize=20)\n",
    "plt.xlabel('PC1', fontsize=15)\n",
    "plt.ylabel('PC2', fontsize=15)\n",
    "plt.grid(True)\n",
    "plt.show()"
   ]
  },
  {
   "cell_type": "code",
   "execution_count": 109,
   "metadata": {
    "collapsed": false
   },
   "outputs": [
    {
     "name": "stdout",
     "output_type": "stream",
     "text": [
      "27\n"
     ]
    },
    {
     "data": {
      "image/png": "[encoded data removed]",
      "text/plain": [
       "<matplotlib.figure.Figure at 0x1174fc390>"
      ]
     },
     "metadata": {},
     "output_type": "display_data"
    }
   ],
   "source": [
    "from sklearn.preprocessing import StandardScaler\n",
    "X_std = StandardScaler().fit_transform(np.transpose(exp_df))\n",
    "X_std\n",
    "u,s,v = np.linalg.svd(np.transpose(X_std))  \n",
    "x=v[0,:]\n",
    "y=v[1,:]\n",
    "print(len(x))\n",
    "plt.scatter(x, y, alpha=0.5,marker='o',c=read_counts_df['Color'])\n",
    "plt.xlabel(\"PC1\")\n",
    "plt.ylabel(\"PC2\")\n",
    "plt.legend(loc=2)\n",
    "plt.show()\n",
    "### \n",
    "#mean_vec = np.mean(X_std, axis=0)\n",
    "#cov_mat = (X_std - mean_vec).T.dot((X_std - mean_vec)) / (X_std.shape[0]-1)\n",
    "#print('Covariance matrix \\n%s' %cov_mat)"
   ]
  },
  {
   "cell_type": "code",
   "execution_count": 115,
   "metadata": {
    "collapsed": false
   },
   "outputs": [
    {
     "name": "stdout",
     "output_type": "stream",
     "text": [
      "27\n"
     ]
    },
    {
     "data": {
      "image/png": "[encoded data removed]",
      "text/plain": [
       "<matplotlib.figure.Figure at 0x118761e50>"
      ]
     },
     "metadata": {},
     "output_type": "display_data"
    }
   ],
   "source": [
    "from sklearn.preprocessing import StandardScaler\n",
    "X_std = StandardScaler().fit_transform(np.transpose(exp_df))\n",
    "X_std.shape\n",
    "u,s,v = np.linalg.svd(X_std.T)  \n",
    "x=v[0,:]\n",
    "y=v[1,:]\n",
    "print(len(x))\n",
    "plt.scatter(x, y, alpha=0.7,marker='o',c=read_counts_df['Color'])\n",
    "plt.xlabel(\"PC1\")\n",
    "plt.ylabel(\"PC2\")\n",
    "plt.legend(loc=2)\n",
    "plt.show()\n"
   ]
  },
  {
   "cell_type": "code",
   "execution_count": 90,
   "metadata": {
    "collapsed": false
   },
   "outputs": [],
   "source": [
    "#print('NumPy covariance matrix: \\n%s' %np.cov(X_std.T))\n",
    "#cov_mat = np.cov(X_std.T)\n",
    "#eig_vals, eig_vecs = np.linalg.eig(cov_mat)\n",
    "#print('Eigenvectors \\n%s' %eig_vecs)\n",
    "#print('\\nEigenvalues \\n%s' %eig_vals)"
   ]
  },
  {
   "cell_type": "code",
   "execution_count": 89,
   "metadata": {
    "collapsed": false
   },
   "outputs": [
    {
     "name": "stdout",
     "output_type": "stream",
     "text": [
      "<bound method PCA.score of PCA(copy=True, n_components=2, whiten=False)>\n",
      "27\n"
     ]
    },
    {
     "data": {
      "image/png": "[encoded data removed]",
      "text/plain": [
       "<matplotlib.figure.Figure at 0x122451310>"
      ]
     },
     "metadata": {},
     "output_type": "display_data"
    }
   ],
   "source": [
    "from sklearn.preprocessing import StandardScaler\n",
    "X_std = StandardScaler().fit_transform(np.transpose(exp_df))\n",
    "X_std\n",
    "u,s,v = np.linalg.svd(np.transpose(X_std))  \n",
    "x=v[0,:]\n",
    "y=v[1,:]\n",
    "print(len(x))\n",
    "plt.scatter(x, y, alpha=0.5,marker='o',c=read_counts_df['Color'])\n",
    "plt.xlabel(\"PC1\")\n",
    "plt.ylabel(\"PC2\")\n",
    "plt.legend(loc=2)\n",
    "plt.show()\n",
    "### \n",
    "#mean_vec = np.mean(X_std, axis=0)\n",
    "#cov_mat = (X_std - mean_vec).T.dot((X_std - mean_vec)) / (X_std.shape[0]-1)\n",
    "#print('Covariance matrix \\n%s' %cov_mat)\n"
   ]
  },
  {
   "cell_type": "code",
   "execution_count": null,
   "metadata": {
    "collapsed": false
   },
   "outputs": [],
   "source": []
  }
 ],
 "metadata": {
  "anaconda-cloud": {},
  "kernelspec": {
   "display_name": "Python [Root]",
   "language": "python",
   "name": "Python [Root]"
  },
  "language_info": {
   "codemirror_mode": {
    "name": "ipython",
    "version": 2
   },
   "file_extension": ".py",
   "mimetype": "text/x-python",
   "name": "python",
   "nbconvert_exporter": "python",
   "pygments_lexer": "ipython2",
   "version": "2.7.12"
  }
 },
 "nbformat": 4,
 "nbformat_minor": 0
}

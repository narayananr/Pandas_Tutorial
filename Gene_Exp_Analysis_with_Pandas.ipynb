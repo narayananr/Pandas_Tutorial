{
 "cells": [
  {
   "cell_type": "markdown",
   "metadata": {},
   "source": [
    "### Python Pandas Introduction"
   ]
  },
  {
   "cell_type": "markdown",
   "metadata": {
    "collapsed": true
   },
   "source": [
    "Here is a short introduction to Pandas using gene expression data. "
   ]
  },
  {
   "cell_type": "code",
   "execution_count": 2,
   "metadata": {
    "collapsed": true
   },
   "outputs": [],
   "source": [
    "## import pandas\n",
    "import pandas as pd\n",
    "import matplotlib.pyplot as plt\n",
    "import seaborn as sns\n",
    "%matplotlib inline"
   ]
  },
  {
   "cell_type": "markdown",
   "metadata": {},
   "source": [
    "#### How to read a tsv file into Pandas Dataframe?"
   ]
  },
  {
   "cell_type": "code",
   "execution_count": 3,
   "metadata": {
    "collapsed": false
   },
   "outputs": [
    {
     "data": {
      "text/html": [
       "<div>\n",
       "<table border=\"1\" class=\"dataframe\">\n",
       "  <thead>\n",
       "    <tr style=\"text-align: right;\">\n",
       "      <th></th>\n",
       "      <th>gene_id</th>\n",
       "      <th>7441_129S1_HFD</th>\n",
       "      <th>7516_129S1_HFD</th>\n",
       "      <th>7501_129S1_HFD</th>\n",
       "      <th>7654_129S1_HFD</th>\n",
       "      <th>7639_129S1_HFD</th>\n",
       "      <th>8393_129S1_HFD</th>\n",
       "      <th>8378_129S1_HFD</th>\n",
       "      <th>7456_129S1_HFD</th>\n",
       "      <th>7546_129S1_LFD</th>\n",
       "      <th>...</th>\n",
       "      <th>11190_WSB_HFD</th>\n",
       "      <th>9149_WSB_HFD</th>\n",
       "      <th>11060_WSB_LFD</th>\n",
       "      <th>11553_WSB_LFD</th>\n",
       "      <th>11538_WSB_LFD</th>\n",
       "      <th>11319_WSB_LFD</th>\n",
       "      <th>11468_WSB_LFD</th>\n",
       "      <th>11304_WSB_LFD</th>\n",
       "      <th>11483_WSB_LFD</th>\n",
       "      <th>11513_WSB_LFD</th>\n",
       "    </tr>\n",
       "  </thead>\n",
       "  <tbody>\n",
       "    <tr>\n",
       "      <th>0</th>\n",
       "      <td>ENSMUSG00000000001</td>\n",
       "      <td>596.0</td>\n",
       "      <td>881.0</td>\n",
       "      <td>1359.0</td>\n",
       "      <td>904.0</td>\n",
       "      <td>867.0</td>\n",
       "      <td>834.0</td>\n",
       "      <td>712.0</td>\n",
       "      <td>661.0</td>\n",
       "      <td>902.0</td>\n",
       "      <td>...</td>\n",
       "      <td>861.0</td>\n",
       "      <td>659.0</td>\n",
       "      <td>533.0</td>\n",
       "      <td>511.0</td>\n",
       "      <td>602.0</td>\n",
       "      <td>654.0</td>\n",
       "      <td>743.0</td>\n",
       "      <td>597.0</td>\n",
       "      <td>496.0</td>\n",
       "      <td>449.0</td>\n",
       "    </tr>\n",
       "    <tr>\n",
       "      <th>1</th>\n",
       "      <td>ENSMUSG00000000003</td>\n",
       "      <td>0.0</td>\n",
       "      <td>0.0</td>\n",
       "      <td>0.0</td>\n",
       "      <td>0.0</td>\n",
       "      <td>0.0</td>\n",
       "      <td>0.0</td>\n",
       "      <td>0.0</td>\n",
       "      <td>0.0</td>\n",
       "      <td>0.0</td>\n",
       "      <td>...</td>\n",
       "      <td>0.0</td>\n",
       "      <td>0.0</td>\n",
       "      <td>0.0</td>\n",
       "      <td>0.0</td>\n",
       "      <td>0.0</td>\n",
       "      <td>0.0</td>\n",
       "      <td>0.0</td>\n",
       "      <td>0.0</td>\n",
       "      <td>0.0</td>\n",
       "      <td>0.0</td>\n",
       "    </tr>\n",
       "    <tr>\n",
       "      <th>2</th>\n",
       "      <td>ENSMUSG00000000028</td>\n",
       "      <td>8.0</td>\n",
       "      <td>9.0</td>\n",
       "      <td>26.0</td>\n",
       "      <td>14.0</td>\n",
       "      <td>17.0</td>\n",
       "      <td>9.0</td>\n",
       "      <td>7.0</td>\n",
       "      <td>8.0</td>\n",
       "      <td>8.0</td>\n",
       "      <td>...</td>\n",
       "      <td>13.0</td>\n",
       "      <td>5.0</td>\n",
       "      <td>5.0</td>\n",
       "      <td>2.0</td>\n",
       "      <td>10.0</td>\n",
       "      <td>7.0</td>\n",
       "      <td>5.0</td>\n",
       "      <td>9.0</td>\n",
       "      <td>3.0</td>\n",
       "      <td>6.0</td>\n",
       "    </tr>\n",
       "    <tr>\n",
       "      <th>3</th>\n",
       "      <td>ENSMUSG00000000031</td>\n",
       "      <td>1.0</td>\n",
       "      <td>4.0</td>\n",
       "      <td>1.0</td>\n",
       "      <td>2.0</td>\n",
       "      <td>3.0</td>\n",
       "      <td>4.0</td>\n",
       "      <td>1.0</td>\n",
       "      <td>1.0</td>\n",
       "      <td>1.0</td>\n",
       "      <td>...</td>\n",
       "      <td>11.0</td>\n",
       "      <td>6.0</td>\n",
       "      <td>12.0</td>\n",
       "      <td>34.0</td>\n",
       "      <td>13.0</td>\n",
       "      <td>6.0</td>\n",
       "      <td>11.0</td>\n",
       "      <td>11.0</td>\n",
       "      <td>8.0</td>\n",
       "      <td>5.0</td>\n",
       "    </tr>\n",
       "    <tr>\n",
       "      <th>4</th>\n",
       "      <td>ENSMUSG00000000037</td>\n",
       "      <td>0.0</td>\n",
       "      <td>0.0</td>\n",
       "      <td>1.0</td>\n",
       "      <td>0.0</td>\n",
       "      <td>1.0</td>\n",
       "      <td>0.0</td>\n",
       "      <td>0.0</td>\n",
       "      <td>0.0</td>\n",
       "      <td>0.0</td>\n",
       "      <td>...</td>\n",
       "      <td>0.0</td>\n",
       "      <td>0.0</td>\n",
       "      <td>0.0</td>\n",
       "      <td>0.0</td>\n",
       "      <td>1.0</td>\n",
       "      <td>0.0</td>\n",
       "      <td>1.0</td>\n",
       "      <td>0.0</td>\n",
       "      <td>0.0</td>\n",
       "      <td>0.0</td>\n",
       "    </tr>\n",
       "  </tbody>\n",
       "</table>\n",
       "<p>5 rows × 129 columns</p>\n",
       "</div>"
      ],
      "text/plain": [
       "              gene_id  7441_129S1_HFD  7516_129S1_HFD  7501_129S1_HFD  \\\n",
       "0  ENSMUSG00000000001           596.0           881.0          1359.0   \n",
       "1  ENSMUSG00000000003             0.0             0.0             0.0   \n",
       "2  ENSMUSG00000000028             8.0             9.0            26.0   \n",
       "3  ENSMUSG00000000031             1.0             4.0             1.0   \n",
       "4  ENSMUSG00000000037             0.0             0.0             1.0   \n",
       "\n",
       "   7654_129S1_HFD  7639_129S1_HFD  8393_129S1_HFD  8378_129S1_HFD  \\\n",
       "0           904.0           867.0           834.0           712.0   \n",
       "1             0.0             0.0             0.0             0.0   \n",
       "2            14.0            17.0             9.0             7.0   \n",
       "3             2.0             3.0             4.0             1.0   \n",
       "4             0.0             1.0             0.0             0.0   \n",
       "\n",
       "   7456_129S1_HFD  7546_129S1_LFD      ...        11190_WSB_HFD  9149_WSB_HFD  \\\n",
       "0           661.0           902.0      ...                861.0         659.0   \n",
       "1             0.0             0.0      ...                  0.0           0.0   \n",
       "2             8.0             8.0      ...                 13.0           5.0   \n",
       "3             1.0             1.0      ...                 11.0           6.0   \n",
       "4             0.0             0.0      ...                  0.0           0.0   \n",
       "\n",
       "   11060_WSB_LFD  11553_WSB_LFD  11538_WSB_LFD  11319_WSB_LFD  11468_WSB_LFD  \\\n",
       "0          533.0          511.0          602.0          654.0          743.0   \n",
       "1            0.0            0.0            0.0            0.0            0.0   \n",
       "2            5.0            2.0           10.0            7.0            5.0   \n",
       "3           12.0           34.0           13.0            6.0           11.0   \n",
       "4            0.0            0.0            1.0            0.0            1.0   \n",
       "\n",
       "   11304_WSB_LFD  11483_WSB_LFD  11513_WSB_LFD  \n",
       "0          597.0          496.0          449.0  \n",
       "1            0.0            0.0            0.0  \n",
       "2            9.0            3.0            6.0  \n",
       "3           11.0            8.0            5.0  \n",
       "4            0.0            0.0            0.0  \n",
       "\n",
       "[5 rows x 129 columns]"
      ]
     },
     "execution_count": 3,
     "metadata": {},
     "output_type": "execute_result"
    }
   ],
   "source": [
    "exp_df=pd.read_csv(\"/Users/narayan/Projects/attieCC_liver/Attie_Liver_CC_Founders_EMASE_counts.tsv\", sep=\"\\t\")\n",
    "exp_df.head()"
   ]
  },
  {
   "cell_type": "markdown",
   "metadata": {},
   "source": [
    "Note that the dataframe has column names and the second row of the data frame is strain name. We can skip the second row while reading the file as dataframe with Pandas. "
   ]
  },
  {
   "cell_type": "code",
   "execution_count": 4,
   "metadata": {
    "collapsed": false
   },
   "outputs": [],
   "source": [
    "#exp_df=pd.read_csv(\"GSE45684_FounderStrainsamples_exp.txt\", sep=\"\\t\", skiprows=[1])\n",
    "#exp_df.head()"
   ]
  },
  {
   "cell_type": "markdown",
   "metadata": {},
   "source": [
    "#### How to check the shape or size of a data frame?"
   ]
  },
  {
   "cell_type": "code",
   "execution_count": 5,
   "metadata": {
    "collapsed": false
   },
   "outputs": [
    {
     "data": {
      "text/plain": [
       "(46517, 129)"
      ]
     },
     "execution_count": 5,
     "metadata": {},
     "output_type": "execute_result"
    }
   ],
   "source": [
    "exp_df.shape"
   ]
  },
  {
   "cell_type": "markdown",
   "metadata": {},
   "source": [
    "Note that the first column of the dataframe is gene names and it is named as 'gene_id'. Often we may want to remove a column (or more columns). Let us see how to do that."
   ]
  },
  {
   "cell_type": "markdown",
   "metadata": {},
   "source": [
    "#### How to remove one  column (or more columns) from Pandas dataframe?"
   ]
  },
  {
   "cell_type": "code",
   "execution_count": 6,
   "metadata": {
    "collapsed": false
   },
   "outputs": [
    {
     "data": {
      "text/html": [
       "<div>\n",
       "<table border=\"1\" class=\"dataframe\">\n",
       "  <thead>\n",
       "    <tr style=\"text-align: right;\">\n",
       "      <th></th>\n",
       "      <th>7441_129S1_HFD</th>\n",
       "      <th>7516_129S1_HFD</th>\n",
       "      <th>7501_129S1_HFD</th>\n",
       "      <th>7654_129S1_HFD</th>\n",
       "      <th>7639_129S1_HFD</th>\n",
       "      <th>8393_129S1_HFD</th>\n",
       "      <th>8378_129S1_HFD</th>\n",
       "      <th>7456_129S1_HFD</th>\n",
       "      <th>7546_129S1_LFD</th>\n",
       "      <th>7471_129S1_LFD</th>\n",
       "      <th>...</th>\n",
       "      <th>11190_WSB_HFD</th>\n",
       "      <th>9149_WSB_HFD</th>\n",
       "      <th>11060_WSB_LFD</th>\n",
       "      <th>11553_WSB_LFD</th>\n",
       "      <th>11538_WSB_LFD</th>\n",
       "      <th>11319_WSB_LFD</th>\n",
       "      <th>11468_WSB_LFD</th>\n",
       "      <th>11304_WSB_LFD</th>\n",
       "      <th>11483_WSB_LFD</th>\n",
       "      <th>11513_WSB_LFD</th>\n",
       "    </tr>\n",
       "  </thead>\n",
       "  <tbody>\n",
       "    <tr>\n",
       "      <th>0</th>\n",
       "      <td>596.0</td>\n",
       "      <td>881.0</td>\n",
       "      <td>1359.0</td>\n",
       "      <td>904.0</td>\n",
       "      <td>867.0</td>\n",
       "      <td>834.0</td>\n",
       "      <td>712.0</td>\n",
       "      <td>661.0</td>\n",
       "      <td>902.0</td>\n",
       "      <td>830.0</td>\n",
       "      <td>...</td>\n",
       "      <td>861.0</td>\n",
       "      <td>659.0</td>\n",
       "      <td>533.0</td>\n",
       "      <td>511.0</td>\n",
       "      <td>602.0</td>\n",
       "      <td>654.0</td>\n",
       "      <td>743.0</td>\n",
       "      <td>597.0</td>\n",
       "      <td>496.0</td>\n",
       "      <td>449.0</td>\n",
       "    </tr>\n",
       "    <tr>\n",
       "      <th>1</th>\n",
       "      <td>0.0</td>\n",
       "      <td>0.0</td>\n",
       "      <td>0.0</td>\n",
       "      <td>0.0</td>\n",
       "      <td>0.0</td>\n",
       "      <td>0.0</td>\n",
       "      <td>0.0</td>\n",
       "      <td>0.0</td>\n",
       "      <td>0.0</td>\n",
       "      <td>0.0</td>\n",
       "      <td>...</td>\n",
       "      <td>0.0</td>\n",
       "      <td>0.0</td>\n",
       "      <td>0.0</td>\n",
       "      <td>0.0</td>\n",
       "      <td>0.0</td>\n",
       "      <td>0.0</td>\n",
       "      <td>0.0</td>\n",
       "      <td>0.0</td>\n",
       "      <td>0.0</td>\n",
       "      <td>0.0</td>\n",
       "    </tr>\n",
       "    <tr>\n",
       "      <th>2</th>\n",
       "      <td>8.0</td>\n",
       "      <td>9.0</td>\n",
       "      <td>26.0</td>\n",
       "      <td>14.0</td>\n",
       "      <td>17.0</td>\n",
       "      <td>9.0</td>\n",
       "      <td>7.0</td>\n",
       "      <td>8.0</td>\n",
       "      <td>8.0</td>\n",
       "      <td>3.0</td>\n",
       "      <td>...</td>\n",
       "      <td>13.0</td>\n",
       "      <td>5.0</td>\n",
       "      <td>5.0</td>\n",
       "      <td>2.0</td>\n",
       "      <td>10.0</td>\n",
       "      <td>7.0</td>\n",
       "      <td>5.0</td>\n",
       "      <td>9.0</td>\n",
       "      <td>3.0</td>\n",
       "      <td>6.0</td>\n",
       "    </tr>\n",
       "    <tr>\n",
       "      <th>3</th>\n",
       "      <td>1.0</td>\n",
       "      <td>4.0</td>\n",
       "      <td>1.0</td>\n",
       "      <td>2.0</td>\n",
       "      <td>3.0</td>\n",
       "      <td>4.0</td>\n",
       "      <td>1.0</td>\n",
       "      <td>1.0</td>\n",
       "      <td>1.0</td>\n",
       "      <td>2.0</td>\n",
       "      <td>...</td>\n",
       "      <td>11.0</td>\n",
       "      <td>6.0</td>\n",
       "      <td>12.0</td>\n",
       "      <td>34.0</td>\n",
       "      <td>13.0</td>\n",
       "      <td>6.0</td>\n",
       "      <td>11.0</td>\n",
       "      <td>11.0</td>\n",
       "      <td>8.0</td>\n",
       "      <td>5.0</td>\n",
       "    </tr>\n",
       "    <tr>\n",
       "      <th>4</th>\n",
       "      <td>0.0</td>\n",
       "      <td>0.0</td>\n",
       "      <td>1.0</td>\n",
       "      <td>0.0</td>\n",
       "      <td>1.0</td>\n",
       "      <td>0.0</td>\n",
       "      <td>0.0</td>\n",
       "      <td>0.0</td>\n",
       "      <td>0.0</td>\n",
       "      <td>0.0</td>\n",
       "      <td>...</td>\n",
       "      <td>0.0</td>\n",
       "      <td>0.0</td>\n",
       "      <td>0.0</td>\n",
       "      <td>0.0</td>\n",
       "      <td>1.0</td>\n",
       "      <td>0.0</td>\n",
       "      <td>1.0</td>\n",
       "      <td>0.0</td>\n",
       "      <td>0.0</td>\n",
       "      <td>0.0</td>\n",
       "    </tr>\n",
       "  </tbody>\n",
       "</table>\n",
       "<p>5 rows × 128 columns</p>\n",
       "</div>"
      ],
      "text/plain": [
       "   7441_129S1_HFD  7516_129S1_HFD  7501_129S1_HFD  7654_129S1_HFD  \\\n",
       "0           596.0           881.0          1359.0           904.0   \n",
       "1             0.0             0.0             0.0             0.0   \n",
       "2             8.0             9.0            26.0            14.0   \n",
       "3             1.0             4.0             1.0             2.0   \n",
       "4             0.0             0.0             1.0             0.0   \n",
       "\n",
       "   7639_129S1_HFD  8393_129S1_HFD  8378_129S1_HFD  7456_129S1_HFD  \\\n",
       "0           867.0           834.0           712.0           661.0   \n",
       "1             0.0             0.0             0.0             0.0   \n",
       "2            17.0             9.0             7.0             8.0   \n",
       "3             3.0             4.0             1.0             1.0   \n",
       "4             1.0             0.0             0.0             0.0   \n",
       "\n",
       "   7546_129S1_LFD  7471_129S1_LFD      ...        11190_WSB_HFD  9149_WSB_HFD  \\\n",
       "0           902.0           830.0      ...                861.0         659.0   \n",
       "1             0.0             0.0      ...                  0.0           0.0   \n",
       "2             8.0             3.0      ...                 13.0           5.0   \n",
       "3             1.0             2.0      ...                 11.0           6.0   \n",
       "4             0.0             0.0      ...                  0.0           0.0   \n",
       "\n",
       "   11060_WSB_LFD  11553_WSB_LFD  11538_WSB_LFD  11319_WSB_LFD  11468_WSB_LFD  \\\n",
       "0          533.0          511.0          602.0          654.0          743.0   \n",
       "1            0.0            0.0            0.0            0.0            0.0   \n",
       "2            5.0            2.0           10.0            7.0            5.0   \n",
       "3           12.0           34.0           13.0            6.0           11.0   \n",
       "4            0.0            0.0            1.0            0.0            1.0   \n",
       "\n",
       "   11304_WSB_LFD  11483_WSB_LFD  11513_WSB_LFD  \n",
       "0          597.0          496.0          449.0  \n",
       "1            0.0            0.0            0.0  \n",
       "2            9.0            3.0            6.0  \n",
       "3           11.0            8.0            5.0  \n",
       "4            0.0            0.0            0.0  \n",
       "\n",
       "[5 rows x 128 columns]"
      ]
     },
     "execution_count": 6,
     "metadata": {},
     "output_type": "execute_result"
    }
   ],
   "source": [
    "exp_df.drop(['gene_id'],axis = 1).head()"
   ]
  },
  {
   "cell_type": "markdown",
   "metadata": {},
   "source": [
    "Insteadof completely deleting the Sample column, let us make that column as rownames of the dataframe."
   ]
  },
  {
   "cell_type": "markdown",
   "metadata": {},
   "source": [
    "#### How to assign a column as row names?"
   ]
  },
  {
   "cell_type": "code",
   "execution_count": 7,
   "metadata": {
    "collapsed": false
   },
   "outputs": [
    {
     "data": {
      "text/html": [
       "<div>\n",
       "<table border=\"1\" class=\"dataframe\">\n",
       "  <thead>\n",
       "    <tr style=\"text-align: right;\">\n",
       "      <th></th>\n",
       "      <th>7441_129S1_HFD</th>\n",
       "      <th>7516_129S1_HFD</th>\n",
       "      <th>7501_129S1_HFD</th>\n",
       "      <th>7654_129S1_HFD</th>\n",
       "      <th>7639_129S1_HFD</th>\n",
       "      <th>8393_129S1_HFD</th>\n",
       "      <th>8378_129S1_HFD</th>\n",
       "      <th>7456_129S1_HFD</th>\n",
       "      <th>7546_129S1_LFD</th>\n",
       "      <th>7471_129S1_LFD</th>\n",
       "      <th>...</th>\n",
       "      <th>11190_WSB_HFD</th>\n",
       "      <th>9149_WSB_HFD</th>\n",
       "      <th>11060_WSB_LFD</th>\n",
       "      <th>11553_WSB_LFD</th>\n",
       "      <th>11538_WSB_LFD</th>\n",
       "      <th>11319_WSB_LFD</th>\n",
       "      <th>11468_WSB_LFD</th>\n",
       "      <th>11304_WSB_LFD</th>\n",
       "      <th>11483_WSB_LFD</th>\n",
       "      <th>11513_WSB_LFD</th>\n",
       "    </tr>\n",
       "    <tr>\n",
       "      <th>gene_id</th>\n",
       "      <th></th>\n",
       "      <th></th>\n",
       "      <th></th>\n",
       "      <th></th>\n",
       "      <th></th>\n",
       "      <th></th>\n",
       "      <th></th>\n",
       "      <th></th>\n",
       "      <th></th>\n",
       "      <th></th>\n",
       "      <th></th>\n",
       "      <th></th>\n",
       "      <th></th>\n",
       "      <th></th>\n",
       "      <th></th>\n",
       "      <th></th>\n",
       "      <th></th>\n",
       "      <th></th>\n",
       "      <th></th>\n",
       "      <th></th>\n",
       "      <th></th>\n",
       "    </tr>\n",
       "  </thead>\n",
       "  <tbody>\n",
       "    <tr>\n",
       "      <th>ENSMUSG00000000001</th>\n",
       "      <td>596.0</td>\n",
       "      <td>881.0</td>\n",
       "      <td>1359.0</td>\n",
       "      <td>904.0</td>\n",
       "      <td>867.0</td>\n",
       "      <td>834.0</td>\n",
       "      <td>712.0</td>\n",
       "      <td>661.0</td>\n",
       "      <td>902.0</td>\n",
       "      <td>830.0</td>\n",
       "      <td>...</td>\n",
       "      <td>861.0</td>\n",
       "      <td>659.0</td>\n",
       "      <td>533.0</td>\n",
       "      <td>511.0</td>\n",
       "      <td>602.0</td>\n",
       "      <td>654.0</td>\n",
       "      <td>743.0</td>\n",
       "      <td>597.0</td>\n",
       "      <td>496.0</td>\n",
       "      <td>449.0</td>\n",
       "    </tr>\n",
       "    <tr>\n",
       "      <th>ENSMUSG00000000003</th>\n",
       "      <td>0.0</td>\n",
       "      <td>0.0</td>\n",
       "      <td>0.0</td>\n",
       "      <td>0.0</td>\n",
       "      <td>0.0</td>\n",
       "      <td>0.0</td>\n",
       "      <td>0.0</td>\n",
       "      <td>0.0</td>\n",
       "      <td>0.0</td>\n",
       "      <td>0.0</td>\n",
       "      <td>...</td>\n",
       "      <td>0.0</td>\n",
       "      <td>0.0</td>\n",
       "      <td>0.0</td>\n",
       "      <td>0.0</td>\n",
       "      <td>0.0</td>\n",
       "      <td>0.0</td>\n",
       "      <td>0.0</td>\n",
       "      <td>0.0</td>\n",
       "      <td>0.0</td>\n",
       "      <td>0.0</td>\n",
       "    </tr>\n",
       "    <tr>\n",
       "      <th>ENSMUSG00000000028</th>\n",
       "      <td>8.0</td>\n",
       "      <td>9.0</td>\n",
       "      <td>26.0</td>\n",
       "      <td>14.0</td>\n",
       "      <td>17.0</td>\n",
       "      <td>9.0</td>\n",
       "      <td>7.0</td>\n",
       "      <td>8.0</td>\n",
       "      <td>8.0</td>\n",
       "      <td>3.0</td>\n",
       "      <td>...</td>\n",
       "      <td>13.0</td>\n",
       "      <td>5.0</td>\n",
       "      <td>5.0</td>\n",
       "      <td>2.0</td>\n",
       "      <td>10.0</td>\n",
       "      <td>7.0</td>\n",
       "      <td>5.0</td>\n",
       "      <td>9.0</td>\n",
       "      <td>3.0</td>\n",
       "      <td>6.0</td>\n",
       "    </tr>\n",
       "    <tr>\n",
       "      <th>ENSMUSG00000000031</th>\n",
       "      <td>1.0</td>\n",
       "      <td>4.0</td>\n",
       "      <td>1.0</td>\n",
       "      <td>2.0</td>\n",
       "      <td>3.0</td>\n",
       "      <td>4.0</td>\n",
       "      <td>1.0</td>\n",
       "      <td>1.0</td>\n",
       "      <td>1.0</td>\n",
       "      <td>2.0</td>\n",
       "      <td>...</td>\n",
       "      <td>11.0</td>\n",
       "      <td>6.0</td>\n",
       "      <td>12.0</td>\n",
       "      <td>34.0</td>\n",
       "      <td>13.0</td>\n",
       "      <td>6.0</td>\n",
       "      <td>11.0</td>\n",
       "      <td>11.0</td>\n",
       "      <td>8.0</td>\n",
       "      <td>5.0</td>\n",
       "    </tr>\n",
       "    <tr>\n",
       "      <th>ENSMUSG00000000037</th>\n",
       "      <td>0.0</td>\n",
       "      <td>0.0</td>\n",
       "      <td>1.0</td>\n",
       "      <td>0.0</td>\n",
       "      <td>1.0</td>\n",
       "      <td>0.0</td>\n",
       "      <td>0.0</td>\n",
       "      <td>0.0</td>\n",
       "      <td>0.0</td>\n",
       "      <td>0.0</td>\n",
       "      <td>...</td>\n",
       "      <td>0.0</td>\n",
       "      <td>0.0</td>\n",
       "      <td>0.0</td>\n",
       "      <td>0.0</td>\n",
       "      <td>1.0</td>\n",
       "      <td>0.0</td>\n",
       "      <td>1.0</td>\n",
       "      <td>0.0</td>\n",
       "      <td>0.0</td>\n",
       "      <td>0.0</td>\n",
       "    </tr>\n",
       "  </tbody>\n",
       "</table>\n",
       "<p>5 rows × 128 columns</p>\n",
       "</div>"
      ],
      "text/plain": [
       "                    7441_129S1_HFD  7516_129S1_HFD  7501_129S1_HFD  \\\n",
       "gene_id                                                              \n",
       "ENSMUSG00000000001           596.0           881.0          1359.0   \n",
       "ENSMUSG00000000003             0.0             0.0             0.0   \n",
       "ENSMUSG00000000028             8.0             9.0            26.0   \n",
       "ENSMUSG00000000031             1.0             4.0             1.0   \n",
       "ENSMUSG00000000037             0.0             0.0             1.0   \n",
       "\n",
       "                    7654_129S1_HFD  7639_129S1_HFD  8393_129S1_HFD  \\\n",
       "gene_id                                                              \n",
       "ENSMUSG00000000001           904.0           867.0           834.0   \n",
       "ENSMUSG00000000003             0.0             0.0             0.0   \n",
       "ENSMUSG00000000028            14.0            17.0             9.0   \n",
       "ENSMUSG00000000031             2.0             3.0             4.0   \n",
       "ENSMUSG00000000037             0.0             1.0             0.0   \n",
       "\n",
       "                    8378_129S1_HFD  7456_129S1_HFD  7546_129S1_LFD  \\\n",
       "gene_id                                                              \n",
       "ENSMUSG00000000001           712.0           661.0           902.0   \n",
       "ENSMUSG00000000003             0.0             0.0             0.0   \n",
       "ENSMUSG00000000028             7.0             8.0             8.0   \n",
       "ENSMUSG00000000031             1.0             1.0             1.0   \n",
       "ENSMUSG00000000037             0.0             0.0             0.0   \n",
       "\n",
       "                    7471_129S1_LFD      ...        11190_WSB_HFD  \\\n",
       "gene_id                                 ...                        \n",
       "ENSMUSG00000000001           830.0      ...                861.0   \n",
       "ENSMUSG00000000003             0.0      ...                  0.0   \n",
       "ENSMUSG00000000028             3.0      ...                 13.0   \n",
       "ENSMUSG00000000031             2.0      ...                 11.0   \n",
       "ENSMUSG00000000037             0.0      ...                  0.0   \n",
       "\n",
       "                    9149_WSB_HFD  11060_WSB_LFD  11553_WSB_LFD  11538_WSB_LFD  \\\n",
       "gene_id                                                                         \n",
       "ENSMUSG00000000001         659.0          533.0          511.0          602.0   \n",
       "ENSMUSG00000000003           0.0            0.0            0.0            0.0   \n",
       "ENSMUSG00000000028           5.0            5.0            2.0           10.0   \n",
       "ENSMUSG00000000031           6.0           12.0           34.0           13.0   \n",
       "ENSMUSG00000000037           0.0            0.0            0.0            1.0   \n",
       "\n",
       "                    11319_WSB_LFD  11468_WSB_LFD  11304_WSB_LFD  \\\n",
       "gene_id                                                           \n",
       "ENSMUSG00000000001          654.0          743.0          597.0   \n",
       "ENSMUSG00000000003            0.0            0.0            0.0   \n",
       "ENSMUSG00000000028            7.0            5.0            9.0   \n",
       "ENSMUSG00000000031            6.0           11.0           11.0   \n",
       "ENSMUSG00000000037            0.0            1.0            0.0   \n",
       "\n",
       "                    11483_WSB_LFD  11513_WSB_LFD  \n",
       "gene_id                                           \n",
       "ENSMUSG00000000001          496.0          449.0  \n",
       "ENSMUSG00000000003            0.0            0.0  \n",
       "ENSMUSG00000000028            3.0            6.0  \n",
       "ENSMUSG00000000031            8.0            5.0  \n",
       "ENSMUSG00000000037            0.0            0.0  \n",
       "\n",
       "[5 rows x 128 columns]"
      ]
     },
     "execution_count": 7,
     "metadata": {},
     "output_type": "execute_result"
    }
   ],
   "source": [
    "exp_df=exp_df.set_index(['gene_id'])\n",
    "exp_df.head()"
   ]
  },
  {
   "cell_type": "markdown",
   "metadata": {},
   "source": [
    "Note that we have successfully used the column as row names and now the dataframe has 128 columns instead of 129. However, the index or rownames still have a name \"gene_id\". "
   ]
  },
  {
   "cell_type": "markdown",
   "metadata": {},
   "source": [
    "#### How to remove name of index in Pandas Dataframe?"
   ]
  },
  {
   "cell_type": "code",
   "execution_count": 8,
   "metadata": {
    "collapsed": false
   },
   "outputs": [
    {
     "name": "stdout",
     "output_type": "stream",
     "text": [
      "(46517, 128)\n"
     ]
    },
    {
     "data": {
      "text/html": [
       "<div>\n",
       "<table border=\"1\" class=\"dataframe\">\n",
       "  <thead>\n",
       "    <tr style=\"text-align: right;\">\n",
       "      <th></th>\n",
       "      <th>7441_129S1_HFD</th>\n",
       "      <th>7516_129S1_HFD</th>\n",
       "      <th>7501_129S1_HFD</th>\n",
       "      <th>7654_129S1_HFD</th>\n",
       "      <th>7639_129S1_HFD</th>\n",
       "      <th>8393_129S1_HFD</th>\n",
       "      <th>8378_129S1_HFD</th>\n",
       "      <th>7456_129S1_HFD</th>\n",
       "      <th>7546_129S1_LFD</th>\n",
       "      <th>7471_129S1_LFD</th>\n",
       "      <th>...</th>\n",
       "      <th>11190_WSB_HFD</th>\n",
       "      <th>9149_WSB_HFD</th>\n",
       "      <th>11060_WSB_LFD</th>\n",
       "      <th>11553_WSB_LFD</th>\n",
       "      <th>11538_WSB_LFD</th>\n",
       "      <th>11319_WSB_LFD</th>\n",
       "      <th>11468_WSB_LFD</th>\n",
       "      <th>11304_WSB_LFD</th>\n",
       "      <th>11483_WSB_LFD</th>\n",
       "      <th>11513_WSB_LFD</th>\n",
       "    </tr>\n",
       "  </thead>\n",
       "  <tbody>\n",
       "    <tr>\n",
       "      <th>ENSMUSG00000000001</th>\n",
       "      <td>596.0</td>\n",
       "      <td>881.0</td>\n",
       "      <td>1359.0</td>\n",
       "      <td>904.0</td>\n",
       "      <td>867.0</td>\n",
       "      <td>834.0</td>\n",
       "      <td>712.0</td>\n",
       "      <td>661.0</td>\n",
       "      <td>902.0</td>\n",
       "      <td>830.0</td>\n",
       "      <td>...</td>\n",
       "      <td>861.0</td>\n",
       "      <td>659.0</td>\n",
       "      <td>533.0</td>\n",
       "      <td>511.0</td>\n",
       "      <td>602.0</td>\n",
       "      <td>654.0</td>\n",
       "      <td>743.0</td>\n",
       "      <td>597.0</td>\n",
       "      <td>496.0</td>\n",
       "      <td>449.0</td>\n",
       "    </tr>\n",
       "    <tr>\n",
       "      <th>ENSMUSG00000000003</th>\n",
       "      <td>0.0</td>\n",
       "      <td>0.0</td>\n",
       "      <td>0.0</td>\n",
       "      <td>0.0</td>\n",
       "      <td>0.0</td>\n",
       "      <td>0.0</td>\n",
       "      <td>0.0</td>\n",
       "      <td>0.0</td>\n",
       "      <td>0.0</td>\n",
       "      <td>0.0</td>\n",
       "      <td>...</td>\n",
       "      <td>0.0</td>\n",
       "      <td>0.0</td>\n",
       "      <td>0.0</td>\n",
       "      <td>0.0</td>\n",
       "      <td>0.0</td>\n",
       "      <td>0.0</td>\n",
       "      <td>0.0</td>\n",
       "      <td>0.0</td>\n",
       "      <td>0.0</td>\n",
       "      <td>0.0</td>\n",
       "    </tr>\n",
       "    <tr>\n",
       "      <th>ENSMUSG00000000028</th>\n",
       "      <td>8.0</td>\n",
       "      <td>9.0</td>\n",
       "      <td>26.0</td>\n",
       "      <td>14.0</td>\n",
       "      <td>17.0</td>\n",
       "      <td>9.0</td>\n",
       "      <td>7.0</td>\n",
       "      <td>8.0</td>\n",
       "      <td>8.0</td>\n",
       "      <td>3.0</td>\n",
       "      <td>...</td>\n",
       "      <td>13.0</td>\n",
       "      <td>5.0</td>\n",
       "      <td>5.0</td>\n",
       "      <td>2.0</td>\n",
       "      <td>10.0</td>\n",
       "      <td>7.0</td>\n",
       "      <td>5.0</td>\n",
       "      <td>9.0</td>\n",
       "      <td>3.0</td>\n",
       "      <td>6.0</td>\n",
       "    </tr>\n",
       "    <tr>\n",
       "      <th>ENSMUSG00000000031</th>\n",
       "      <td>1.0</td>\n",
       "      <td>4.0</td>\n",
       "      <td>1.0</td>\n",
       "      <td>2.0</td>\n",
       "      <td>3.0</td>\n",
       "      <td>4.0</td>\n",
       "      <td>1.0</td>\n",
       "      <td>1.0</td>\n",
       "      <td>1.0</td>\n",
       "      <td>2.0</td>\n",
       "      <td>...</td>\n",
       "      <td>11.0</td>\n",
       "      <td>6.0</td>\n",
       "      <td>12.0</td>\n",
       "      <td>34.0</td>\n",
       "      <td>13.0</td>\n",
       "      <td>6.0</td>\n",
       "      <td>11.0</td>\n",
       "      <td>11.0</td>\n",
       "      <td>8.0</td>\n",
       "      <td>5.0</td>\n",
       "    </tr>\n",
       "    <tr>\n",
       "      <th>ENSMUSG00000000037</th>\n",
       "      <td>0.0</td>\n",
       "      <td>0.0</td>\n",
       "      <td>1.0</td>\n",
       "      <td>0.0</td>\n",
       "      <td>1.0</td>\n",
       "      <td>0.0</td>\n",
       "      <td>0.0</td>\n",
       "      <td>0.0</td>\n",
       "      <td>0.0</td>\n",
       "      <td>0.0</td>\n",
       "      <td>...</td>\n",
       "      <td>0.0</td>\n",
       "      <td>0.0</td>\n",
       "      <td>0.0</td>\n",
       "      <td>0.0</td>\n",
       "      <td>1.0</td>\n",
       "      <td>0.0</td>\n",
       "      <td>1.0</td>\n",
       "      <td>0.0</td>\n",
       "      <td>0.0</td>\n",
       "      <td>0.0</td>\n",
       "    </tr>\n",
       "  </tbody>\n",
       "</table>\n",
       "<p>5 rows × 128 columns</p>\n",
       "</div>"
      ],
      "text/plain": [
       "                    7441_129S1_HFD  7516_129S1_HFD  7501_129S1_HFD  \\\n",
       "ENSMUSG00000000001           596.0           881.0          1359.0   \n",
       "ENSMUSG00000000003             0.0             0.0             0.0   \n",
       "ENSMUSG00000000028             8.0             9.0            26.0   \n",
       "ENSMUSG00000000031             1.0             4.0             1.0   \n",
       "ENSMUSG00000000037             0.0             0.0             1.0   \n",
       "\n",
       "                    7654_129S1_HFD  7639_129S1_HFD  8393_129S1_HFD  \\\n",
       "ENSMUSG00000000001           904.0           867.0           834.0   \n",
       "ENSMUSG00000000003             0.0             0.0             0.0   \n",
       "ENSMUSG00000000028            14.0            17.0             9.0   \n",
       "ENSMUSG00000000031             2.0             3.0             4.0   \n",
       "ENSMUSG00000000037             0.0             1.0             0.0   \n",
       "\n",
       "                    8378_129S1_HFD  7456_129S1_HFD  7546_129S1_LFD  \\\n",
       "ENSMUSG00000000001           712.0           661.0           902.0   \n",
       "ENSMUSG00000000003             0.0             0.0             0.0   \n",
       "ENSMUSG00000000028             7.0             8.0             8.0   \n",
       "ENSMUSG00000000031             1.0             1.0             1.0   \n",
       "ENSMUSG00000000037             0.0             0.0             0.0   \n",
       "\n",
       "                    7471_129S1_LFD      ...        11190_WSB_HFD  \\\n",
       "ENSMUSG00000000001           830.0      ...                861.0   \n",
       "ENSMUSG00000000003             0.0      ...                  0.0   \n",
       "ENSMUSG00000000028             3.0      ...                 13.0   \n",
       "ENSMUSG00000000031             2.0      ...                 11.0   \n",
       "ENSMUSG00000000037             0.0      ...                  0.0   \n",
       "\n",
       "                    9149_WSB_HFD  11060_WSB_LFD  11553_WSB_LFD  11538_WSB_LFD  \\\n",
       "ENSMUSG00000000001         659.0          533.0          511.0          602.0   \n",
       "ENSMUSG00000000003           0.0            0.0            0.0            0.0   \n",
       "ENSMUSG00000000028           5.0            5.0            2.0           10.0   \n",
       "ENSMUSG00000000031           6.0           12.0           34.0           13.0   \n",
       "ENSMUSG00000000037           0.0            0.0            0.0            1.0   \n",
       "\n",
       "                    11319_WSB_LFD  11468_WSB_LFD  11304_WSB_LFD  \\\n",
       "ENSMUSG00000000001          654.0          743.0          597.0   \n",
       "ENSMUSG00000000003            0.0            0.0            0.0   \n",
       "ENSMUSG00000000028            7.0            5.0            9.0   \n",
       "ENSMUSG00000000031            6.0           11.0           11.0   \n",
       "ENSMUSG00000000037            0.0            1.0            0.0   \n",
       "\n",
       "                    11483_WSB_LFD  11513_WSB_LFD  \n",
       "ENSMUSG00000000001          496.0          449.0  \n",
       "ENSMUSG00000000003            0.0            0.0  \n",
       "ENSMUSG00000000028            3.0            6.0  \n",
       "ENSMUSG00000000031            8.0            5.0  \n",
       "ENSMUSG00000000037            0.0            0.0  \n",
       "\n",
       "[5 rows x 128 columns]"
      ]
     },
     "execution_count": 8,
     "metadata": {},
     "output_type": "execute_result"
    }
   ],
   "source": [
    "exp_df.index.name=None\n",
    "print exp_df.shape\n",
    "exp_df.head()"
   ]
  },
  {
   "cell_type": "markdown",
   "metadata": {},
   "source": [
    "Now the data frame is simply a matrix of gene expression with sample names as columns and gene ID as row names. Let us explore the data frame."
   ]
  },
  {
   "cell_type": "markdown",
   "metadata": {},
   "source": [
    "#### How to check the summary of a dataframe?"
   ]
  },
  {
   "cell_type": "code",
   "execution_count": 9,
   "metadata": {
    "collapsed": false
   },
   "outputs": [
    {
     "data": {
      "text/html": [
       "<div>\n",
       "<table border=\"1\" class=\"dataframe\">\n",
       "  <thead>\n",
       "    <tr style=\"text-align: right;\">\n",
       "      <th></th>\n",
       "      <th>7441_129S1_HFD</th>\n",
       "      <th>7516_129S1_HFD</th>\n",
       "      <th>7501_129S1_HFD</th>\n",
       "      <th>7654_129S1_HFD</th>\n",
       "      <th>7639_129S1_HFD</th>\n",
       "      <th>8393_129S1_HFD</th>\n",
       "      <th>8378_129S1_HFD</th>\n",
       "      <th>7456_129S1_HFD</th>\n",
       "      <th>7546_129S1_LFD</th>\n",
       "      <th>7471_129S1_LFD</th>\n",
       "      <th>...</th>\n",
       "      <th>11190_WSB_HFD</th>\n",
       "      <th>9149_WSB_HFD</th>\n",
       "      <th>11060_WSB_LFD</th>\n",
       "      <th>11553_WSB_LFD</th>\n",
       "      <th>11538_WSB_LFD</th>\n",
       "      <th>11319_WSB_LFD</th>\n",
       "      <th>11468_WSB_LFD</th>\n",
       "      <th>11304_WSB_LFD</th>\n",
       "      <th>11483_WSB_LFD</th>\n",
       "      <th>11513_WSB_LFD</th>\n",
       "    </tr>\n",
       "  </thead>\n",
       "  <tbody>\n",
       "    <tr>\n",
       "      <th>count</th>\n",
       "      <td>46517.000000</td>\n",
       "      <td>46517.000000</td>\n",
       "      <td>46517.000000</td>\n",
       "      <td>46517.000000</td>\n",
       "      <td>46517.000000</td>\n",
       "      <td>46517.000000</td>\n",
       "      <td>46517.000000</td>\n",
       "      <td>46517.000000</td>\n",
       "      <td>46517.000000</td>\n",
       "      <td>46517.000000</td>\n",
       "      <td>...</td>\n",
       "      <td>46517.000000</td>\n",
       "      <td>46517.000000</td>\n",
       "      <td>46517.000000</td>\n",
       "      <td>46517.000000</td>\n",
       "      <td>46517.000000</td>\n",
       "      <td>46517.000000</td>\n",
       "      <td>46517.000000</td>\n",
       "      <td>46517.000000</td>\n",
       "      <td>46517.000000</td>\n",
       "      <td>46517.000000</td>\n",
       "    </tr>\n",
       "    <tr>\n",
       "      <th>mean</th>\n",
       "      <td>129.076703</td>\n",
       "      <td>214.137004</td>\n",
       "      <td>295.101769</td>\n",
       "      <td>219.104800</td>\n",
       "      <td>193.204140</td>\n",
       "      <td>215.962831</td>\n",
       "      <td>168.577036</td>\n",
       "      <td>142.932799</td>\n",
       "      <td>216.326096</td>\n",
       "      <td>176.023131</td>\n",
       "      <td>...</td>\n",
       "      <td>247.392029</td>\n",
       "      <td>191.256336</td>\n",
       "      <td>146.884193</td>\n",
       "      <td>143.813531</td>\n",
       "      <td>164.943032</td>\n",
       "      <td>213.669798</td>\n",
       "      <td>214.471527</td>\n",
       "      <td>178.852140</td>\n",
       "      <td>163.617108</td>\n",
       "      <td>140.167702</td>\n",
       "    </tr>\n",
       "    <tr>\n",
       "      <th>std</th>\n",
       "      <td>2265.085827</td>\n",
       "      <td>3850.888392</td>\n",
       "      <td>5134.500908</td>\n",
       "      <td>4012.543313</td>\n",
       "      <td>3582.818555</td>\n",
       "      <td>4302.808026</td>\n",
       "      <td>3113.025204</td>\n",
       "      <td>2593.796972</td>\n",
       "      <td>4124.682595</td>\n",
       "      <td>3170.136634</td>\n",
       "      <td>...</td>\n",
       "      <td>4919.396525</td>\n",
       "      <td>3447.299600</td>\n",
       "      <td>3018.897717</td>\n",
       "      <td>2828.363259</td>\n",
       "      <td>3402.434572</td>\n",
       "      <td>5258.142615</td>\n",
       "      <td>4810.114276</td>\n",
       "      <td>4060.533942</td>\n",
       "      <td>3535.649496</td>\n",
       "      <td>3073.409637</td>\n",
       "    </tr>\n",
       "    <tr>\n",
       "      <th>min</th>\n",
       "      <td>0.000000</td>\n",
       "      <td>0.000000</td>\n",
       "      <td>0.000000</td>\n",
       "      <td>0.000000</td>\n",
       "      <td>0.000000</td>\n",
       "      <td>0.000000</td>\n",
       "      <td>0.000000</td>\n",
       "      <td>0.000000</td>\n",
       "      <td>0.000000</td>\n",
       "      <td>0.000000</td>\n",
       "      <td>...</td>\n",
       "      <td>0.000000</td>\n",
       "      <td>0.000000</td>\n",
       "      <td>0.000000</td>\n",
       "      <td>0.000000</td>\n",
       "      <td>0.000000</td>\n",
       "      <td>0.000000</td>\n",
       "      <td>0.000000</td>\n",
       "      <td>0.000000</td>\n",
       "      <td>0.000000</td>\n",
       "      <td>0.000000</td>\n",
       "    </tr>\n",
       "    <tr>\n",
       "      <th>25%</th>\n",
       "      <td>0.000000</td>\n",
       "      <td>0.000000</td>\n",
       "      <td>0.000000</td>\n",
       "      <td>0.000000</td>\n",
       "      <td>0.000000</td>\n",
       "      <td>0.000000</td>\n",
       "      <td>0.000000</td>\n",
       "      <td>0.000000</td>\n",
       "      <td>0.000000</td>\n",
       "      <td>0.000000</td>\n",
       "      <td>...</td>\n",
       "      <td>0.000000</td>\n",
       "      <td>0.000000</td>\n",
       "      <td>0.000000</td>\n",
       "      <td>0.000000</td>\n",
       "      <td>0.000000</td>\n",
       "      <td>0.000000</td>\n",
       "      <td>0.000000</td>\n",
       "      <td>0.000000</td>\n",
       "      <td>0.000000</td>\n",
       "      <td>0.000000</td>\n",
       "    </tr>\n",
       "    <tr>\n",
       "      <th>50%</th>\n",
       "      <td>0.000000</td>\n",
       "      <td>0.000000</td>\n",
       "      <td>0.000000</td>\n",
       "      <td>0.000000</td>\n",
       "      <td>0.000000</td>\n",
       "      <td>0.000000</td>\n",
       "      <td>0.000000</td>\n",
       "      <td>0.000000</td>\n",
       "      <td>0.000000</td>\n",
       "      <td>0.000000</td>\n",
       "      <td>...</td>\n",
       "      <td>0.000000</td>\n",
       "      <td>0.000000</td>\n",
       "      <td>0.000000</td>\n",
       "      <td>0.000000</td>\n",
       "      <td>0.000000</td>\n",
       "      <td>0.000000</td>\n",
       "      <td>0.000000</td>\n",
       "      <td>0.000000</td>\n",
       "      <td>0.000000</td>\n",
       "      <td>0.000000</td>\n",
       "    </tr>\n",
       "    <tr>\n",
       "      <th>75%</th>\n",
       "      <td>9.000000</td>\n",
       "      <td>14.000000</td>\n",
       "      <td>15.000000</td>\n",
       "      <td>14.024283</td>\n",
       "      <td>12.000000</td>\n",
       "      <td>14.000000</td>\n",
       "      <td>10.000000</td>\n",
       "      <td>8.704330</td>\n",
       "      <td>11.000000</td>\n",
       "      <td>12.000000</td>\n",
       "      <td>...</td>\n",
       "      <td>12.912262</td>\n",
       "      <td>10.000000</td>\n",
       "      <td>8.000000</td>\n",
       "      <td>10.000000</td>\n",
       "      <td>9.573405</td>\n",
       "      <td>10.000000</td>\n",
       "      <td>12.779566</td>\n",
       "      <td>10.000000</td>\n",
       "      <td>10.000000</td>\n",
       "      <td>7.000000</td>\n",
       "    </tr>\n",
       "    <tr>\n",
       "      <th>max</th>\n",
       "      <td>244357.949825</td>\n",
       "      <td>403784.372969</td>\n",
       "      <td>506898.870121</td>\n",
       "      <td>447217.363669</td>\n",
       "      <td>381562.970186</td>\n",
       "      <td>611764.000000</td>\n",
       "      <td>347929.976438</td>\n",
       "      <td>289801.051805</td>\n",
       "      <td>438626.666377</td>\n",
       "      <td>367384.000000</td>\n",
       "      <td>...</td>\n",
       "      <td>593592.067791</td>\n",
       "      <td>376229.269735</td>\n",
       "      <td>373252.666986</td>\n",
       "      <td>335921.721657</td>\n",
       "      <td>401920.030953</td>\n",
       "      <td>707559.081080</td>\n",
       "      <td>622805.112730</td>\n",
       "      <td>505478.000000</td>\n",
       "      <td>429427.052976</td>\n",
       "      <td>379863.180379</td>\n",
       "    </tr>\n",
       "  </tbody>\n",
       "</table>\n",
       "<p>8 rows × 128 columns</p>\n",
       "</div>"
      ],
      "text/plain": [
       "       7441_129S1_HFD  7516_129S1_HFD  7501_129S1_HFD  7654_129S1_HFD  \\\n",
       "count    46517.000000    46517.000000    46517.000000    46517.000000   \n",
       "mean       129.076703      214.137004      295.101769      219.104800   \n",
       "std       2265.085827     3850.888392     5134.500908     4012.543313   \n",
       "min          0.000000        0.000000        0.000000        0.000000   \n",
       "25%          0.000000        0.000000        0.000000        0.000000   \n",
       "50%          0.000000        0.000000        0.000000        0.000000   \n",
       "75%          9.000000       14.000000       15.000000       14.024283   \n",
       "max     244357.949825   403784.372969   506898.870121   447217.363669   \n",
       "\n",
       "       7639_129S1_HFD  8393_129S1_HFD  8378_129S1_HFD  7456_129S1_HFD  \\\n",
       "count    46517.000000    46517.000000    46517.000000    46517.000000   \n",
       "mean       193.204140      215.962831      168.577036      142.932799   \n",
       "std       3582.818555     4302.808026     3113.025204     2593.796972   \n",
       "min          0.000000        0.000000        0.000000        0.000000   \n",
       "25%          0.000000        0.000000        0.000000        0.000000   \n",
       "50%          0.000000        0.000000        0.000000        0.000000   \n",
       "75%         12.000000       14.000000       10.000000        8.704330   \n",
       "max     381562.970186   611764.000000   347929.976438   289801.051805   \n",
       "\n",
       "       7546_129S1_LFD  7471_129S1_LFD      ...        11190_WSB_HFD  \\\n",
       "count    46517.000000    46517.000000      ...         46517.000000   \n",
       "mean       216.326096      176.023131      ...           247.392029   \n",
       "std       4124.682595     3170.136634      ...          4919.396525   \n",
       "min          0.000000        0.000000      ...             0.000000   \n",
       "25%          0.000000        0.000000      ...             0.000000   \n",
       "50%          0.000000        0.000000      ...             0.000000   \n",
       "75%         11.000000       12.000000      ...            12.912262   \n",
       "max     438626.666377   367384.000000      ...        593592.067791   \n",
       "\n",
       "        9149_WSB_HFD  11060_WSB_LFD  11553_WSB_LFD  11538_WSB_LFD  \\\n",
       "count   46517.000000   46517.000000   46517.000000   46517.000000   \n",
       "mean      191.256336     146.884193     143.813531     164.943032   \n",
       "std      3447.299600    3018.897717    2828.363259    3402.434572   \n",
       "min         0.000000       0.000000       0.000000       0.000000   \n",
       "25%         0.000000       0.000000       0.000000       0.000000   \n",
       "50%         0.000000       0.000000       0.000000       0.000000   \n",
       "75%        10.000000       8.000000      10.000000       9.573405   \n",
       "max    376229.269735  373252.666986  335921.721657  401920.030953   \n",
       "\n",
       "       11319_WSB_LFD  11468_WSB_LFD  11304_WSB_LFD  11483_WSB_LFD  \\\n",
       "count   46517.000000   46517.000000   46517.000000   46517.000000   \n",
       "mean      213.669798     214.471527     178.852140     163.617108   \n",
       "std      5258.142615    4810.114276    4060.533942    3535.649496   \n",
       "min         0.000000       0.000000       0.000000       0.000000   \n",
       "25%         0.000000       0.000000       0.000000       0.000000   \n",
       "50%         0.000000       0.000000       0.000000       0.000000   \n",
       "75%        10.000000      12.779566      10.000000      10.000000   \n",
       "max    707559.081080  622805.112730  505478.000000  429427.052976   \n",
       "\n",
       "       11513_WSB_LFD  \n",
       "count   46517.000000  \n",
       "mean      140.167702  \n",
       "std      3073.409637  \n",
       "min         0.000000  \n",
       "25%         0.000000  \n",
       "50%         0.000000  \n",
       "75%         7.000000  \n",
       "max    379863.180379  \n",
       "\n",
       "[8 rows x 128 columns]"
      ]
     },
     "execution_count": 9,
     "metadata": {},
     "output_type": "execute_result"
    }
   ],
   "source": [
    "exp_df.describe()"
   ]
  },
  {
   "cell_type": "code",
   "execution_count": null,
   "metadata": {
    "collapsed": false
   },
   "outputs": [],
   "source": [
    "Let count the total number of reads for each sample."
   ]
  },
  {
   "cell_type": "markdown",
   "metadata": {},
   "source": [
    "#### How to get column sums of a dataframe in Pandas?"
   ]
  },
  {
   "cell_type": "code",
   "execution_count": 17,
   "metadata": {
    "collapsed": false
   },
   "outputs": [
    {
     "data": {
      "text/plain": [
       "7441_129S1_HFD    6.004261e+06\n",
       "7516_129S1_HFD    9.961011e+06\n",
       "7501_129S1_HFD    1.372725e+07\n",
       "7654_129S1_HFD    1.019210e+07\n",
       "7639_129S1_HFD    8.987277e+06\n",
       "dtype: float64"
      ]
     },
     "execution_count": 17,
     "metadata": {},
     "output_type": "execute_result"
    }
   ],
   "source": [
    "exp_df.sum(axis=0)\n",
    "exp_df.sum(axis=0).head()"
   ]
  },
  {
   "cell_type": "markdown",
   "metadata": {},
   "source": [
    "Let us convert the results from column to a data frame."
   ]
  },
  {
   "cell_type": "code",
   "execution_count": 37,
   "metadata": {
    "collapsed": false
   },
   "outputs": [
    {
     "data": {
      "text/html": [
       "<div>\n",
       "<table border=\"1\" class=\"dataframe\">\n",
       "  <thead>\n",
       "    <tr style=\"text-align: right;\">\n",
       "      <th></th>\n",
       "      <th>0</th>\n",
       "    </tr>\n",
       "  </thead>\n",
       "  <tbody>\n",
       "    <tr>\n",
       "      <th>7441_129S1_HFD</th>\n",
       "      <td>6.004261e+06</td>\n",
       "    </tr>\n",
       "    <tr>\n",
       "      <th>7516_129S1_HFD</th>\n",
       "      <td>9.961011e+06</td>\n",
       "    </tr>\n",
       "    <tr>\n",
       "      <th>7501_129S1_HFD</th>\n",
       "      <td>1.372725e+07</td>\n",
       "    </tr>\n",
       "    <tr>\n",
       "      <th>7654_129S1_HFD</th>\n",
       "      <td>1.019210e+07</td>\n",
       "    </tr>\n",
       "    <tr>\n",
       "      <th>7639_129S1_HFD</th>\n",
       "      <td>8.987277e+06</td>\n",
       "    </tr>\n",
       "  </tbody>\n",
       "</table>\n",
       "</div>"
      ],
      "text/plain": [
       "                           0\n",
       "7441_129S1_HFD  6.004261e+06\n",
       "7516_129S1_HFD  9.961011e+06\n",
       "7501_129S1_HFD  1.372725e+07\n",
       "7654_129S1_HFD  1.019210e+07\n",
       "7639_129S1_HFD  8.987277e+06"
      ]
     },
     "execution_count": 37,
     "metadata": {},
     "output_type": "execute_result"
    }
   ],
   "source": [
    "read_counts_df=pd.DataFrame(exp_df.sum(axis=0))\n",
    "read_counts_df.head()\n"
   ]
  },
  {
   "cell_type": "markdown",
   "metadata": {},
   "source": [
    "#### How to assign a name to a column?"
   ]
  },
  {
   "cell_type": "code",
   "execution_count": 38,
   "metadata": {
    "collapsed": false
   },
   "outputs": [
    {
     "data": {
      "text/html": [
       "<div>\n",
       "<table border=\"1\" class=\"dataframe\">\n",
       "  <thead>\n",
       "    <tr style=\"text-align: right;\">\n",
       "      <th></th>\n",
       "      <th>read_counts</th>\n",
       "    </tr>\n",
       "  </thead>\n",
       "  <tbody>\n",
       "    <tr>\n",
       "      <th>7441_129S1_HFD</th>\n",
       "      <td>6.004261e+06</td>\n",
       "    </tr>\n",
       "    <tr>\n",
       "      <th>7516_129S1_HFD</th>\n",
       "      <td>9.961011e+06</td>\n",
       "    </tr>\n",
       "    <tr>\n",
       "      <th>7501_129S1_HFD</th>\n",
       "      <td>1.372725e+07</td>\n",
       "    </tr>\n",
       "    <tr>\n",
       "      <th>7654_129S1_HFD</th>\n",
       "      <td>1.019210e+07</td>\n",
       "    </tr>\n",
       "    <tr>\n",
       "      <th>7639_129S1_HFD</th>\n",
       "      <td>8.987277e+06</td>\n",
       "    </tr>\n",
       "  </tbody>\n",
       "</table>\n",
       "</div>"
      ],
      "text/plain": [
       "                 read_counts\n",
       "7441_129S1_HFD  6.004261e+06\n",
       "7516_129S1_HFD  9.961011e+06\n",
       "7501_129S1_HFD  1.372725e+07\n",
       "7654_129S1_HFD  1.019210e+07\n",
       "7639_129S1_HFD  8.987277e+06"
      ]
     },
     "execution_count": 38,
     "metadata": {},
     "output_type": "execute_result"
    }
   ],
   "source": [
    "read_counts_df.columns =['read_counts']\n",
    "read_counts_df.head()"
   ]
  },
  {
   "cell_type": "markdown",
   "metadata": {},
   "source": [
    "Note that the row names has more information about each sample. For example, it has three parts. First part is sample ID, the second part is Strain name and the third part is the diet information. LFD means low fat diet and HFD is high fat diet. Let us parse this and create additional columns in the dataframe"
   ]
  },
  {
   "cell_type": "markdown",
   "metadata": {},
   "source": [
    "#### How to create a new column to a Pandas DataFrame?"
   ]
  },
  {
   "cell_type": "code",
   "execution_count": 39,
   "metadata": {
    "collapsed": false
   },
   "outputs": [
    {
     "name": "stdout",
     "output_type": "stream",
     "text": [
      "                 read_counts\n",
      "7441_129S1_HFD  6.004261e+06\n",
      "7516_129S1_HFD  9.961011e+06\n",
      "7501_129S1_HFD  1.372725e+07\n",
      "7654_129S1_HFD  1.019210e+07\n",
      "7639_129S1_HFD  8.987277e+06\n",
      "                 read_counts SampleID Strain Diet\n",
      "7441_129S1_HFD  6.004261e+06     7441  129S1  HFD\n",
      "7516_129S1_HFD  9.961011e+06     7516  129S1  HFD\n",
      "7501_129S1_HFD  1.372725e+07     7501  129S1  HFD\n",
      "7654_129S1_HFD  1.019210e+07     7654  129S1  HFD\n",
      "7639_129S1_HFD  8.987277e+06     7639  129S1  HFD\n"
     ]
    }
   ],
   "source": [
    "# add a new 'Sample ID' column\n",
    "read_counts_df['SampleID'] =[i.split(\"_\")[0] for i in list(read_counts_df.index)]\n",
    "# add a new 'Strain' column\n",
    "read_counts_df['Strain'] = [i.split(\"_\")[1] for i in list(read_counts_df.index)]\n",
    "# add a new 'Diet' column\n",
    "read_counts_df['Diet'] = [i.split(\"_\")[2] for i in list(read_counts_df.index)]\n",
    "print read_counts_df.head()\n"
   ]
  },
  {
   "cell_type": "markdown",
   "metadata": {},
   "source": [
    "#### How to make boxplot using Pandas dataframe?"
   ]
  },
  {
   "cell_type": "code",
   "execution_count": 92,
   "metadata": {
    "collapsed": false
   },
   "outputs": [
    {
     "data": {
      "text/plain": [
       "<matplotlib.axes._subplots.AxesSubplot at 0x129348590>"
      ]
     },
     "execution_count": 92,
     "metadata": {},
     "output_type": "execute_result"
    },
    {
     "data": {
      "image/png": "[encoded data removed]",
      "text/plain": [
       "<matplotlib.figure.Figure at 0x129319cd0>"
      ]
     },
     "metadata": {},
     "output_type": "display_data"
    }
   ],
   "source": [
    "read_counts_df.boxplot(by='Strain')"
   ]
  },
  {
   "cell_type": "code",
   "execution_count": 93,
   "metadata": {
    "collapsed": false
   },
   "outputs": [
    {
     "data": {
      "image/png": "[encoded data removed]",
      "text/plain": [
       "<matplotlib.figure.Figure at 0x12a2d0410>"
      ]
     },
     "metadata": {},
     "output_type": "display_data"
    }
   ],
   "source": [
    "sns.boxplot(y=\"read_counts\", x=\"Strain\", data=read_counts_df,palette=\"muted\")\n",
    "ax = sns.swarmplot(x=\"Strain\", y=\"read_counts\", data=read_counts_df, color=\".25\")\n",
    "sns.despine(offset=10, trim=True)"
   ]
  },
  {
   "cell_type": "code",
   "execution_count": 60,
   "metadata": {
    "collapsed": false
   },
   "outputs": [
    {
     "data": {
      "image/png": "[encoded data removed]",
      "text/plain": [
       "<matplotlib.figure.Figure at 0x11aaeda50>"
      ]
     },
     "metadata": {},
     "output_type": "display_data"
    }
   ],
   "source": [
    "# Make the jitter plot\n",
    "sns.boxplot(y=\"read_counts\", x=\"Strain\", data=read_counts_df,palette=\"muted\")\n",
    "ax = sns.stripplot( x=\"Strain\", y=\"read_counts\", data=read_counts_df, jitter=True, marker='o', \n",
    "                   alpha=0.8, edgecolor='white',palette=\"muted\")\n"
   ]
  },
  {
   "cell_type": "code",
   "execution_count": 53,
   "metadata": {
    "collapsed": false
   },
   "outputs": [
    {
     "data": {
      "text/plain": [
       "<matplotlib.axes._subplots.AxesSubplot at 0x11b2b6790>"
      ]
     },
     "execution_count": 53,
     "metadata": {},
     "output_type": "execute_result"
    },
    {
     "data": {
      "image/png": "[encoded data removed]",
      "text/plain": [
       "<matplotlib.figure.Figure at 0x129190c10>"
      ]
     },
     "metadata": {},
     "output_type": "display_data"
    }
   ],
   "source": [
    "sns.violinplot(y=\"read_counts\", x=\"Strain\", data=read_counts_df,palette=\"muted\")\n"
   ]
  },
  {
   "cell_type": "markdown",
   "metadata": {},
   "source": [
    "#### How to assign a specific color to a specific box in boxplot?"
   ]
  },
  {
   "cell_type": "code",
   "execution_count": 91,
   "metadata": {
    "collapsed": false
   },
   "outputs": [
    {
     "data": {
      "image/png": "[encoded data removed]",
      "text/plain": [
       "<matplotlib.figure.Figure at 0x12a4bae10>"
      ]
     },
     "metadata": {},
     "output_type": "display_data"
    }
   ],
   "source": [
    "CC_strains=['129S1', 'AJ', 'C57B6J', 'CAST', 'NOD', 'NZO', 'PWK', 'WSB']\n",
    "CC_colors=[\"#F08080\",\"#F0F000\",\"#808080\",\"#00A000\",\"#1010F0\",\"#00A0F0\",\"#F00000\",\"#9000E0\"]\n",
    "# Make a dictionary of dates and colors\n",
    "color_dict = dict(zip(CC_strains, CC_colors))\n",
    "# Make a list of colors\n",
    "colors = []\n",
    "ax=sns.boxplot(y=\"read_counts\", x=\"Strain\", data=read_counts_df)\n",
    "for i in range(0,8):\n",
    "    mybox = ax.artists[i]\n",
    "    mybox.set_facecolor(color_dict[CC_strains[i]])\n",
    "ax = sns.stripplot( x=\"Strain\", y=\"read_counts\", data=read_counts_df, jitter=True, marker='o', \n",
    "                   alpha=0.8,color=\"black\")\n"
   ]
  },
  {
   "cell_type": "code",
   "execution_count": 63,
   "metadata": {
    "collapsed": false
   },
   "outputs": [
    {
     "data": {
      "text/plain": [
       "array(['129S1', 'AJ', 'C57B6J', 'CAST', 'NOD', 'NZO', 'PWK', 'WSB'], dtype=object)"
      ]
     },
     "execution_count": 63,
     "metadata": {},
     "output_type": "execute_result"
    }
   ],
   "source": [
    "#sns.set(style=\"ticks\")\n",
    "# Draw a nested boxplot to show bills by day and sex\n",
    "#sns.boxplot(y=\"read_counts\", x=\"Strain\", hue=\"Diet\", data=read_counts_df, palette=\"muted\")\n",
    "#sns.despine(offset=10, trim=True)\n"
   ]
  },
  {
   "cell_type": "markdown",
   "metadata": {},
   "source": [
    "Note that a lot of the rows have value zero's. Let us filter the genes whose expression is below a certain threshold. For the ease, let the threshold be the sum of all samples.\n"
   ]
  },
  {
   "cell_type": "code",
   "execution_count": 10,
   "metadata": {
    "collapsed": false
   },
   "outputs": [
    {
     "data": {
      "text/plain": [
       "17346"
      ]
     },
     "execution_count": 10,
     "metadata": {},
     "output_type": "execute_result"
    }
   ],
   "source": [
    "thres=100\n",
    "sum(exp_df.sum(axis=1)>thres)"
   ]
  },
  {
   "cell_type": "code",
   "execution_count": null,
   "metadata": {
    "collapsed": true
   },
   "outputs": [],
   "source": []
  },
  {
   "cell_type": "markdown",
   "metadata": {},
   "source": [
    "About 7100 genes pass our threshold."
   ]
  },
  {
   "cell_type": "code",
   "execution_count": 20,
   "metadata": {
    "collapsed": false
   },
   "outputs": [
    {
     "data": {
      "text/plain": [
       "(7192, 128)"
      ]
     },
     "execution_count": 20,
     "metadata": {},
     "output_type": "execute_result"
    }
   ],
   "source": [
    "exp_nz=exp_df[exp_df.sum(axis=1)>thres]\n",
    "exp_nz.shape"
   ]
  },
  {
   "cell_type": "code",
   "execution_count": 21,
   "metadata": {
    "collapsed": true
   },
   "outputs": [],
   "source": [
    "import numpy as np\n",
    "from sklearn.decomposition import PCA\n",
    "from sklearn.preprocessing import scale\n"
   ]
  },
  {
   "cell_type": "code",
   "execution_count": 42,
   "metadata": {
    "collapsed": false
   },
   "outputs": [
    {
     "name": "stdout",
     "output_type": "stream",
     "text": [
      "[ 0.71517394  0.12751287  0.05217051  0.04868387  0.01447354  0.01192981\n",
      "  0.00861174  0.0054581   0.00396306  0.00237797]\n",
      "128\n"
     ]
    },
    {
     "data": {
      "image/png": "[encoded data removed]",
      "text/plain": [
       "<matplotlib.figure.Figure at 0x12d4d2cd0>"
      ]
     },
     "metadata": {},
     "output_type": "display_data"
    }
   ],
   "source": [
    "X=exp_nz.values\n",
    "X.shape\n",
    "X.dtype\n",
    "X = scale(X)\n",
    "pca = PCA(n_components=10)\n",
    "pca.fit(X)\n",
    "\n",
    "#The amount of variance that each PC explains\n",
    "var= pca.explained_variance_ratio_\n",
    "print var\n",
    "pca.score\n",
    "x=pca.components_[0,:]\n",
    "y=pca.components_[1,:]\n",
    "print(len(x))\n",
    "plt.scatter(x, y, c=\"g\", alpha=0.5)\n",
    "plt.xlabel(\"PC1\")\n",
    "plt.ylabel(\"PC2\")\n",
    "plt.legend(loc=2)\n",
    "plt.show()"
   ]
  }
 ],
 "metadata": {
  "kernelspec": {
   "display_name": "Python [Root]",
   "language": "python",
   "name": "Python [Root]"
  },
  "language_info": {
   "codemirror_mode": {
    "name": "ipython",
    "version": 2
   },
   "file_extension": ".py",
   "mimetype": "text/x-python",
   "name": "python",
   "nbconvert_exporter": "python",
   "pygments_lexer": "ipython2",
   "version": "2.7.12"
  }
 },
 "nbformat": 4,
 "nbformat_minor": 0
}
